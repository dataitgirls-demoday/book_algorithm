{
 "cells": [
  {
   "cell_type": "markdown",
   "metadata": {},
   "source": [
    "# Kakao Arena 2회 대회 : 브런치 사용자를 위한 글 추천 대회\n",
    "## 데이터 EDA ipython notebook"
   ]
  },
  {
   "cell_type": "code",
   "execution_count": 1,
   "metadata": {},
   "outputs": [],
   "source": [
    "from collections import Counter\n",
    "from datetime import timedelta, datetime\n",
    "import glob\n",
    "from itertools import chain\n",
    "import json\n",
    "import os\n",
    "import re"
   ]
  },
  {
   "cell_type": "code",
   "execution_count": 2,
   "metadata": {},
   "outputs": [],
   "source": [
    "import matplotlib.pyplot as plt\n",
    "import numpy as np\n",
    "import pandas as pd\n",
    "from pandas.plotting import register_matplotlib_converters\n",
    "import seaborn as sns"
   ]
  },
  {
   "cell_type": "code",
   "execution_count": 3,
   "metadata": {},
   "outputs": [],
   "source": [
    "import matplotlib\n",
    "import matplotlib.pyplot as plt\n",
    "import matplotlib.font_manager as fm\n",
    "font_path = '/usr/share/fonts/NanumGothic.ttf'\n",
    "font_name = fm.FontProperties(fname=font_path, size=10).get_name()\n",
    "plt.rc('font', family=font_name, size=12)\n",
    "plt.rcParams[\"figure.figsize\"] = (20, 10)\n",
    "register_matplotlib_converters()"
   ]
  },
  {
   "cell_type": "code",
   "execution_count": 4,
   "metadata": {},
   "outputs": [],
   "source": [
    "directory = '/data/dataset/arena/res/'"
   ]
  },
  {
   "cell_type": "code",
   "execution_count": null,
   "metadata": {},
   "outputs": [],
   "source": []
  },
  {
   "cell_type": "markdown",
   "metadata": {},
   "source": [
    "## 1. Data Read"
   ]
  },
  {
   "cell_type": "markdown",
   "metadata": {},
   "source": [
    "### a. Magazine.json"
   ]
  },
  {
   "cell_type": "code",
   "execution_count": 5,
   "metadata": {},
   "outputs": [],
   "source": [
    "magazine = pd.read_json(directory + 'magazine.json', lines=True)"
   ]
  },
  {
   "cell_type": "code",
   "execution_count": 6,
   "metadata": {},
   "outputs": [
    {
     "data": {
      "text/plain": [
       "(27967, 2)"
      ]
     },
     "execution_count": 6,
     "metadata": {},
     "output_type": "execute_result"
    }
   ],
   "source": [
    "magazine.shape"
   ]
  },
  {
   "cell_type": "code",
   "execution_count": 7,
   "metadata": {},
   "outputs": [
    {
     "data": {
      "text/html": [
       "<div>\n",
       "<style scoped>\n",
       "    .dataframe tbody tr th:only-of-type {\n",
       "        vertical-align: middle;\n",
       "    }\n",
       "\n",
       "    .dataframe tbody tr th {\n",
       "        vertical-align: top;\n",
       "    }\n",
       "\n",
       "    .dataframe thead th {\n",
       "        text-align: right;\n",
       "    }\n",
       "</style>\n",
       "<table border=\"1\" class=\"dataframe\">\n",
       "  <thead>\n",
       "    <tr style=\"text-align: right;\">\n",
       "      <th></th>\n",
       "      <th>id</th>\n",
       "      <th>magazine_tag_list</th>\n",
       "    </tr>\n",
       "  </thead>\n",
       "  <tbody>\n",
       "    <tr>\n",
       "      <th>0</th>\n",
       "      <td>38842</td>\n",
       "      <td>[브런치북, 육아일기, 대화법, 들려주고픈이야기]</td>\n",
       "    </tr>\n",
       "    <tr>\n",
       "      <th>1</th>\n",
       "      <td>11540</td>\n",
       "      <td>[tea, food]</td>\n",
       "    </tr>\n",
       "    <tr>\n",
       "      <th>2</th>\n",
       "      <td>11541</td>\n",
       "      <td>[food]</td>\n",
       "    </tr>\n",
       "    <tr>\n",
       "      <th>3</th>\n",
       "      <td>11546</td>\n",
       "      <td>[브런치북, 일상, 시, 사람]</td>\n",
       "    </tr>\n",
       "    <tr>\n",
       "      <th>4</th>\n",
       "      <td>11544</td>\n",
       "      <td>[감성에세이, 노래, 음악에세이]</td>\n",
       "    </tr>\n",
       "  </tbody>\n",
       "</table>\n",
       "</div>"
      ],
      "text/plain": [
       "      id            magazine_tag_list\n",
       "0  38842  [브런치북, 육아일기, 대화법, 들려주고픈이야기]\n",
       "1  11540                  [tea, food]\n",
       "2  11541                       [food]\n",
       "3  11546            [브런치북, 일상, 시, 사람]\n",
       "4  11544           [감성에세이, 노래, 음악에세이]"
      ]
     },
     "execution_count": 7,
     "metadata": {},
     "output_type": "execute_result"
    }
   ],
   "source": [
    "magazine.head()"
   ]
  },
  {
   "cell_type": "markdown",
   "metadata": {},
   "source": [
    "### b. Metadata.json"
   ]
  },
  {
   "cell_type": "code",
   "execution_count": 8,
   "metadata": {},
   "outputs": [],
   "source": [
    "metadata = pd.read_json(directory + 'metadata.json', lines=True)"
   ]
  },
  {
   "cell_type": "code",
   "execution_count": 9,
   "metadata": {},
   "outputs": [
    {
     "data": {
      "text/plain": [
       "(643104, 9)"
      ]
     },
     "execution_count": 9,
     "metadata": {},
     "output_type": "execute_result"
    }
   ],
   "source": [
    "metadata.shape"
   ]
  },
  {
   "cell_type": "code",
   "execution_count": 10,
   "metadata": {},
   "outputs": [
    {
     "data": {
      "text/html": [
       "<div>\n",
       "<style scoped>\n",
       "    .dataframe tbody tr th:only-of-type {\n",
       "        vertical-align: middle;\n",
       "    }\n",
       "\n",
       "    .dataframe tbody tr th {\n",
       "        vertical-align: top;\n",
       "    }\n",
       "\n",
       "    .dataframe thead th {\n",
       "        text-align: right;\n",
       "    }\n",
       "</style>\n",
       "<table border=\"1\" class=\"dataframe\">\n",
       "  <thead>\n",
       "    <tr style=\"text-align: right;\">\n",
       "      <th></th>\n",
       "      <th>article_id</th>\n",
       "      <th>display_url</th>\n",
       "      <th>id</th>\n",
       "      <th>keyword_list</th>\n",
       "      <th>magazine_id</th>\n",
       "      <th>reg_ts</th>\n",
       "      <th>sub_title</th>\n",
       "      <th>title</th>\n",
       "      <th>user_id</th>\n",
       "    </tr>\n",
       "  </thead>\n",
       "  <tbody>\n",
       "    <tr>\n",
       "      <th>0</th>\n",
       "      <td>782</td>\n",
       "      <td>https://brunch.co.kr/@bookdb/782</td>\n",
       "      <td>@bookdb_782</td>\n",
       "      <td>[여행, 호주, 국립공원]</td>\n",
       "      <td>8982</td>\n",
       "      <td>1474944427000</td>\n",
       "      <td>세상 어디에도 없는 호주 Top 10</td>\n",
       "      <td>사진으로 옮기기에도 아까운, 리치필드 국립공원</td>\n",
       "      <td>@bookdb</td>\n",
       "    </tr>\n",
       "    <tr>\n",
       "      <th>1</th>\n",
       "      <td>81</td>\n",
       "      <td>https://brunch.co.kr/@kohwang56/81</td>\n",
       "      <td>@kohwang56_81</td>\n",
       "      <td>[목련꽃, 아지랑이, 동행]</td>\n",
       "      <td>12081</td>\n",
       "      <td>1463092749000</td>\n",
       "      <td></td>\n",
       "      <td>[시] 서러운 봄</td>\n",
       "      <td>@kohwang56</td>\n",
       "    </tr>\n",
       "    <tr>\n",
       "      <th>2</th>\n",
       "      <td>4</td>\n",
       "      <td>https://brunch.co.kr/@hannahajink/4</td>\n",
       "      <td>@hannahajink_4</td>\n",
       "      <td>[]</td>\n",
       "      <td>0</td>\n",
       "      <td>1447997287000</td>\n",
       "      <td>무엇 때문에</td>\n",
       "      <td>무엇을 위해</td>\n",
       "      <td>@hannahajink</td>\n",
       "    </tr>\n",
       "    <tr>\n",
       "      <th>3</th>\n",
       "      <td>88</td>\n",
       "      <td>https://brunch.co.kr/@bryceandjuli/88</td>\n",
       "      <td>@bryceandjuli_88</td>\n",
       "      <td>[감정, 마음, 위로]</td>\n",
       "      <td>16315</td>\n",
       "      <td>1491055161000</td>\n",
       "      <td></td>\n",
       "      <td>싫다</td>\n",
       "      <td>@bryceandjuli</td>\n",
       "    </tr>\n",
       "    <tr>\n",
       "      <th>4</th>\n",
       "      <td>34</td>\n",
       "      <td>https://brunch.co.kr/@mijeongpark/34</td>\n",
       "      <td>@mijeongpark_34</td>\n",
       "      <td>[유럽여행, 더블린, 아일랜드]</td>\n",
       "      <td>29363</td>\n",
       "      <td>1523292942000</td>\n",
       "      <td>#7. 내 친구의 집은 어디인가</td>\n",
       "      <td>Dubliner#7</td>\n",
       "      <td>@mijeongpark</td>\n",
       "    </tr>\n",
       "  </tbody>\n",
       "</table>\n",
       "</div>"
      ],
      "text/plain": [
       "   article_id                            display_url                id  \\\n",
       "0         782       https://brunch.co.kr/@bookdb/782       @bookdb_782   \n",
       "1          81     https://brunch.co.kr/@kohwang56/81     @kohwang56_81   \n",
       "2           4    https://brunch.co.kr/@hannahajink/4    @hannahajink_4   \n",
       "3          88  https://brunch.co.kr/@bryceandjuli/88  @bryceandjuli_88   \n",
       "4          34   https://brunch.co.kr/@mijeongpark/34   @mijeongpark_34   \n",
       "\n",
       "        keyword_list  magazine_id         reg_ts             sub_title  \\\n",
       "0     [여행, 호주, 국립공원]         8982  1474944427000  세상 어디에도 없는 호주 Top 10   \n",
       "1    [목련꽃, 아지랑이, 동행]        12081  1463092749000                         \n",
       "2                 []            0  1447997287000                무엇 때문에   \n",
       "3       [감정, 마음, 위로]        16315  1491055161000                         \n",
       "4  [유럽여행, 더블린, 아일랜드]        29363  1523292942000     #7. 내 친구의 집은 어디인가   \n",
       "\n",
       "                       title        user_id  \n",
       "0  사진으로 옮기기에도 아까운, 리치필드 국립공원        @bookdb  \n",
       "1                  [시] 서러운 봄     @kohwang56  \n",
       "2                     무엇을 위해   @hannahajink  \n",
       "3                         싫다  @bryceandjuli  \n",
       "4                 Dubliner#7   @mijeongpark  "
      ]
     },
     "execution_count": 10,
     "metadata": {},
     "output_type": "execute_result"
    }
   ],
   "source": [
    "metadata.head()"
   ]
  },
  {
   "cell_type": "markdown",
   "metadata": {},
   "source": [
    "### c. Users.json"
   ]
  },
  {
   "cell_type": "code",
   "execution_count": 11,
   "metadata": {},
   "outputs": [],
   "source": [
    "users = pd.read_json(directory + '/users.json', lines=True)"
   ]
  },
  {
   "cell_type": "code",
   "execution_count": 12,
   "metadata": {},
   "outputs": [
    {
     "data": {
      "text/plain": [
       "(310758, 3)"
      ]
     },
     "execution_count": 12,
     "metadata": {},
     "output_type": "execute_result"
    }
   ],
   "source": [
    "users.shape"
   ]
  },
  {
   "cell_type": "code",
   "execution_count": 13,
   "metadata": {},
   "outputs": [
    {
     "data": {
      "text/html": [
       "<div>\n",
       "<style scoped>\n",
       "    .dataframe tbody tr th:only-of-type {\n",
       "        vertical-align: middle;\n",
       "    }\n",
       "\n",
       "    .dataframe tbody tr th {\n",
       "        vertical-align: top;\n",
       "    }\n",
       "\n",
       "    .dataframe thead th {\n",
       "        text-align: right;\n",
       "    }\n",
       "</style>\n",
       "<table border=\"1\" class=\"dataframe\">\n",
       "  <thead>\n",
       "    <tr style=\"text-align: right;\">\n",
       "      <th></th>\n",
       "      <th>following_list</th>\n",
       "      <th>id</th>\n",
       "      <th>keyword_list</th>\n",
       "    </tr>\n",
       "  </thead>\n",
       "  <tbody>\n",
       "    <tr>\n",
       "      <th>0</th>\n",
       "      <td>[@perytail, @brunch]</td>\n",
       "      <td>#901985d8bc4c481805c4a4f911814c4a</td>\n",
       "      <td>[]</td>\n",
       "    </tr>\n",
       "    <tr>\n",
       "      <th>1</th>\n",
       "      <td>[@holidaymemories, @wadiz, @sciforus, @dailydu...</td>\n",
       "      <td>#1fd89e9dcfa64b45020d9eaca54e0eed</td>\n",
       "      <td>[]</td>\n",
       "    </tr>\n",
       "    <tr>\n",
       "      <th>2</th>\n",
       "      <td>[@commerceguy, @sunsutu, @kakao-it, @joohoonja...</td>\n",
       "      <td>#1d94baaea71a831e1f33e1c6bd126ed5</td>\n",
       "      <td>[]</td>\n",
       "    </tr>\n",
       "    <tr>\n",
       "      <th>3</th>\n",
       "      <td>[@amberjeon48, @forsy20, @nemotokki, @hawann, ...</td>\n",
       "      <td>#04641c01892b12dc018b1410e4928c0d</td>\n",
       "      <td>[]</td>\n",
       "    </tr>\n",
       "    <tr>\n",
       "      <th>4</th>\n",
       "      <td>[@dwcha7342, @iammento, @kakao-it, @dkam, @ant...</td>\n",
       "      <td>#65bcaff862aadff877e461f54187ab62</td>\n",
       "      <td>[]</td>\n",
       "    </tr>\n",
       "  </tbody>\n",
       "</table>\n",
       "</div>"
      ],
      "text/plain": [
       "                                      following_list  \\\n",
       "0                               [@perytail, @brunch]   \n",
       "1  [@holidaymemories, @wadiz, @sciforus, @dailydu...   \n",
       "2  [@commerceguy, @sunsutu, @kakao-it, @joohoonja...   \n",
       "3  [@amberjeon48, @forsy20, @nemotokki, @hawann, ...   \n",
       "4  [@dwcha7342, @iammento, @kakao-it, @dkam, @ant...   \n",
       "\n",
       "                                  id keyword_list  \n",
       "0  #901985d8bc4c481805c4a4f911814c4a           []  \n",
       "1  #1fd89e9dcfa64b45020d9eaca54e0eed           []  \n",
       "2  #1d94baaea71a831e1f33e1c6bd126ed5           []  \n",
       "3  #04641c01892b12dc018b1410e4928c0d           []  \n",
       "4  #65bcaff862aadff877e461f54187ab62           []  "
      ]
     },
     "execution_count": 13,
     "metadata": {},
     "output_type": "execute_result"
    }
   ],
   "source": [
    "users.head()"
   ]
  },
  {
   "cell_type": "markdown",
   "metadata": {},
   "source": [
    "### d. Read Files"
   ]
  },
  {
   "cell_type": "code",
   "execution_count": 14,
   "metadata": {},
   "outputs": [],
   "source": [
    "read_file_lst = glob.glob('/data/dataset/arena/res/read/*')"
   ]
  },
  {
   "cell_type": "code",
   "execution_count": 15,
   "metadata": {},
   "outputs": [],
   "source": [
    "exclude_file_lst = ['read.tar']"
   ]
  },
  {
   "cell_type": "code",
   "execution_count": 16,
   "metadata": {},
   "outputs": [
    {
     "name": "stdout",
     "output_type": "stream",
     "text": [
      "read.tar\n"
     ]
    }
   ],
   "source": [
    "read_df_lst = []\n",
    "for f in read_file_lst:\n",
    "    file_name = os.path.basename(f)\n",
    "    if file_name in exclude_file_lst:\n",
    "        print(file_name)\n",
    "    else:\n",
    "        df_temp = pd.read_csv(f, header=None, names=['raw'])\n",
    "        df_temp['dt'] = file_name[:8]\n",
    "        df_temp['hr'] = file_name[8:10]\n",
    "        df_temp['user_id'] = df_temp['raw'].str.split(' ').str[0]\n",
    "        df_temp['article_id'] = df_temp['raw'].str.split(' ').str[1:].str.join(' ').str.strip()\n",
    "        read_df_lst.append(df_temp)"
   ]
  },
  {
   "cell_type": "code",
   "execution_count": 17,
   "metadata": {},
   "outputs": [],
   "source": [
    "read = pd.concat(read_df_lst)"
   ]
  },
  {
   "cell_type": "code",
   "execution_count": 18,
   "metadata": {},
   "outputs": [
    {
     "data": {
      "text/plain": [
       "(3507097, 5)"
      ]
     },
     "execution_count": 18,
     "metadata": {},
     "output_type": "execute_result"
    }
   ],
   "source": [
    "read.shape"
   ]
  },
  {
   "cell_type": "code",
   "execution_count": 19,
   "metadata": {},
   "outputs": [
    {
     "data": {
      "text/html": [
       "<div>\n",
       "<style scoped>\n",
       "    .dataframe tbody tr th:only-of-type {\n",
       "        vertical-align: middle;\n",
       "    }\n",
       "\n",
       "    .dataframe tbody tr th {\n",
       "        vertical-align: top;\n",
       "    }\n",
       "\n",
       "    .dataframe thead th {\n",
       "        text-align: right;\n",
       "    }\n",
       "</style>\n",
       "<table border=\"1\" class=\"dataframe\">\n",
       "  <thead>\n",
       "    <tr style=\"text-align: right;\">\n",
       "      <th></th>\n",
       "      <th>raw</th>\n",
       "      <th>dt</th>\n",
       "      <th>hr</th>\n",
       "      <th>user_id</th>\n",
       "      <th>article_id</th>\n",
       "    </tr>\n",
       "  </thead>\n",
       "  <tbody>\n",
       "    <tr>\n",
       "      <th>0</th>\n",
       "      <td>#e208be4ffea19b1ceb5cea2e3c4dc32c @kty0613_91</td>\n",
       "      <td>20181001</td>\n",
       "      <td>00</td>\n",
       "      <td>#e208be4ffea19b1ceb5cea2e3c4dc32c</td>\n",
       "      <td>@kty0613_91</td>\n",
       "    </tr>\n",
       "    <tr>\n",
       "      <th>1</th>\n",
       "      <td>#0a3d493f3b2318be80f391eaa00bfd1c @miamiyoung_...</td>\n",
       "      <td>20181001</td>\n",
       "      <td>00</td>\n",
       "      <td>#0a3d493f3b2318be80f391eaa00bfd1c</td>\n",
       "      <td>@miamiyoung_31 @banksalad_49 @rlfrjsdn_95 @rea...</td>\n",
       "    </tr>\n",
       "    <tr>\n",
       "      <th>2</th>\n",
       "      <td>#b90d3ee7ed0d7d827aae168e159749f1 @joeunha_4 @...</td>\n",
       "      <td>20181001</td>\n",
       "      <td>00</td>\n",
       "      <td>#b90d3ee7ed0d7d827aae168e159749f1</td>\n",
       "      <td>@joeunha_4 @yoonvi_3</td>\n",
       "    </tr>\n",
       "    <tr>\n",
       "      <th>3</th>\n",
       "      <td>#b8b9d09fe2961fd62edc94912bf75a90 @hyejinchoi_...</td>\n",
       "      <td>20181001</td>\n",
       "      <td>00</td>\n",
       "      <td>#b8b9d09fe2961fd62edc94912bf75a90</td>\n",
       "      <td>@hyejinchoi_122 @hyejinchoi_86 @hyejinchoi_42 ...</td>\n",
       "    </tr>\n",
       "    <tr>\n",
       "      <th>4</th>\n",
       "      <td>#072f742eda9359cdac03ad080193c11d @doyeonsunim...</td>\n",
       "      <td>20181001</td>\n",
       "      <td>00</td>\n",
       "      <td>#072f742eda9359cdac03ad080193c11d</td>\n",
       "      <td>@doyeonsunim_240 @k52524_297 @bule13_33 @kwong...</td>\n",
       "    </tr>\n",
       "  </tbody>\n",
       "</table>\n",
       "</div>"
      ],
      "text/plain": [
       "                                                 raw        dt  hr  \\\n",
       "0     #e208be4ffea19b1ceb5cea2e3c4dc32c @kty0613_91   20181001  00   \n",
       "1  #0a3d493f3b2318be80f391eaa00bfd1c @miamiyoung_...  20181001  00   \n",
       "2  #b90d3ee7ed0d7d827aae168e159749f1 @joeunha_4 @...  20181001  00   \n",
       "3  #b8b9d09fe2961fd62edc94912bf75a90 @hyejinchoi_...  20181001  00   \n",
       "4  #072f742eda9359cdac03ad080193c11d @doyeonsunim...  20181001  00   \n",
       "\n",
       "                             user_id  \\\n",
       "0  #e208be4ffea19b1ceb5cea2e3c4dc32c   \n",
       "1  #0a3d493f3b2318be80f391eaa00bfd1c   \n",
       "2  #b90d3ee7ed0d7d827aae168e159749f1   \n",
       "3  #b8b9d09fe2961fd62edc94912bf75a90   \n",
       "4  #072f742eda9359cdac03ad080193c11d   \n",
       "\n",
       "                                          article_id  \n",
       "0                                        @kty0613_91  \n",
       "1  @miamiyoung_31 @banksalad_49 @rlfrjsdn_95 @rea...  \n",
       "2                               @joeunha_4 @yoonvi_3  \n",
       "3  @hyejinchoi_122 @hyejinchoi_86 @hyejinchoi_42 ...  \n",
       "4  @doyeonsunim_240 @k52524_297 @bule13_33 @kwong...  "
      ]
     },
     "execution_count": 19,
     "metadata": {},
     "output_type": "execute_result"
    }
   ],
   "source": [
    "read.head()"
   ]
  },
  {
   "cell_type": "markdown",
   "metadata": {},
   "source": [
    "#### 탐색하기 좋은 데이터 포맷으로 변경"
   ]
  },
  {
   "cell_type": "code",
   "execution_count": 20,
   "metadata": {},
   "outputs": [],
   "source": [
    "def chainer(s):\n",
    "    return list(chain.from_iterable(s.str.split(' ')))"
   ]
  },
  {
   "cell_type": "code",
   "execution_count": 21,
   "metadata": {},
   "outputs": [],
   "source": [
    "read_cnt_by_user = read['article_id'].str.split(' ').map(len)"
   ]
  },
  {
   "cell_type": "code",
   "execution_count": 22,
   "metadata": {},
   "outputs": [],
   "source": [
    "read_raw = pd.DataFrame({'dt': np.repeat(read['dt'], read_cnt_by_user),\n",
    "                         'hr': np.repeat(read['hr'], read_cnt_by_user),\n",
    "                         'user_id': np.repeat(read['user_id'], read_cnt_by_user),\n",
    "                         'article_id': chainer(read['article_id'])})"
   ]
  },
  {
   "cell_type": "code",
   "execution_count": 23,
   "metadata": {},
   "outputs": [
    {
     "data": {
      "text/plain": [
       "(22110706, 4)"
      ]
     },
     "execution_count": 23,
     "metadata": {},
     "output_type": "execute_result"
    }
   ],
   "source": [
    "read_raw.shape"
   ]
  },
  {
   "cell_type": "code",
   "execution_count": 24,
   "metadata": {},
   "outputs": [
    {
     "data": {
      "text/html": [
       "<div>\n",
       "<style scoped>\n",
       "    .dataframe tbody tr th:only-of-type {\n",
       "        vertical-align: middle;\n",
       "    }\n",
       "\n",
       "    .dataframe tbody tr th {\n",
       "        vertical-align: top;\n",
       "    }\n",
       "\n",
       "    .dataframe thead th {\n",
       "        text-align: right;\n",
       "    }\n",
       "</style>\n",
       "<table border=\"1\" class=\"dataframe\">\n",
       "  <thead>\n",
       "    <tr style=\"text-align: right;\">\n",
       "      <th></th>\n",
       "      <th>dt</th>\n",
       "      <th>hr</th>\n",
       "      <th>user_id</th>\n",
       "      <th>article_id</th>\n",
       "    </tr>\n",
       "  </thead>\n",
       "  <tbody>\n",
       "    <tr>\n",
       "      <th>0</th>\n",
       "      <td>20181001</td>\n",
       "      <td>00</td>\n",
       "      <td>#e208be4ffea19b1ceb5cea2e3c4dc32c</td>\n",
       "      <td>@kty0613_91</td>\n",
       "    </tr>\n",
       "    <tr>\n",
       "      <th>1</th>\n",
       "      <td>20181001</td>\n",
       "      <td>00</td>\n",
       "      <td>#0a3d493f3b2318be80f391eaa00bfd1c</td>\n",
       "      <td>@miamiyoung_31</td>\n",
       "    </tr>\n",
       "    <tr>\n",
       "      <th>1</th>\n",
       "      <td>20181001</td>\n",
       "      <td>00</td>\n",
       "      <td>#0a3d493f3b2318be80f391eaa00bfd1c</td>\n",
       "      <td>@banksalad_49</td>\n",
       "    </tr>\n",
       "    <tr>\n",
       "      <th>1</th>\n",
       "      <td>20181001</td>\n",
       "      <td>00</td>\n",
       "      <td>#0a3d493f3b2318be80f391eaa00bfd1c</td>\n",
       "      <td>@rlfrjsdn_95</td>\n",
       "    </tr>\n",
       "    <tr>\n",
       "      <th>1</th>\n",
       "      <td>20181001</td>\n",
       "      <td>00</td>\n",
       "      <td>#0a3d493f3b2318be80f391eaa00bfd1c</td>\n",
       "      <td>@readme999_140</td>\n",
       "    </tr>\n",
       "  </tbody>\n",
       "</table>\n",
       "</div>"
      ],
      "text/plain": [
       "         dt  hr                            user_id      article_id\n",
       "0  20181001  00  #e208be4ffea19b1ceb5cea2e3c4dc32c     @kty0613_91\n",
       "1  20181001  00  #0a3d493f3b2318be80f391eaa00bfd1c  @miamiyoung_31\n",
       "1  20181001  00  #0a3d493f3b2318be80f391eaa00bfd1c   @banksalad_49\n",
       "1  20181001  00  #0a3d493f3b2318be80f391eaa00bfd1c    @rlfrjsdn_95\n",
       "1  20181001  00  #0a3d493f3b2318be80f391eaa00bfd1c  @readme999_140"
      ]
     },
     "execution_count": 24,
     "metadata": {},
     "output_type": "execute_result"
    }
   ],
   "source": [
    "read_raw.head()"
   ]
  },
  {
   "cell_type": "code",
   "execution_count": 25,
   "metadata": {},
   "outputs": [
    {
     "name": "stdout",
     "output_type": "stream",
     "text": [
      "전체 데이터 건수: (22110706, 4)\n",
      "중복 소비를 제외한 데이터 건수: (12597878, 2)\n",
      "Unique 독자 수: 306222\n",
      "소비된 Unique 글 수: 505841\n"
     ]
    }
   ],
   "source": [
    "print(\"전체 데이터 건수:\", read_raw.shape)\n",
    "print(\"중복 소비를 제외한 데이터 건수:\", read_raw[['user_id', 'article_id']].drop_duplicates().shape)\n",
    "print(\"Unique 독자 수:\", len(read_raw['user_id'].unique()))\n",
    "print(\"소비된 Unique 글 수:\", len(read_raw['article_id'].unique()))"
   ]
  },
  {
   "cell_type": "code",
   "execution_count": null,
   "metadata": {},
   "outputs": [],
   "source": []
  },
  {
   "cell_type": "code",
   "execution_count": null,
   "metadata": {},
   "outputs": [],
   "source": []
  },
  {
   "cell_type": "markdown",
   "metadata": {},
   "source": [
    "# EDA"
   ]
  },
  {
   "cell_type": "markdown",
   "metadata": {},
   "source": [
    "## 1. 글 수 "
   ]
  },
  {
   "cell_type": "markdown",
   "metadata": {},
   "source": [
    "### a. metadata 전처리"
   ]
  },
  {
   "cell_type": "code",
   "execution_count": 26,
   "metadata": {},
   "outputs": [],
   "source": [
    "atc = metadata.copy()"
   ]
  },
  {
   "cell_type": "code",
   "execution_count": 27,
   "metadata": {},
   "outputs": [],
   "source": [
    "atc['reg_datetime'] = atc['reg_ts'].apply(lambda x : datetime.fromtimestamp(x/1000.0))\n",
    "atc.loc[atc['reg_datetime'] == atc['reg_datetime'].min(), 'reg_datetime'] = datetime(2090, 12, 31)\n",
    "atc['reg_dt'] = atc['reg_datetime'].dt.date\n",
    "atc['type'] = atc['magazine_id'].apply(lambda x : '개인' if x == 0.0 else '매거진')"
   ]
  },
  {
   "cell_type": "code",
   "execution_count": 28,
   "metadata": {},
   "outputs": [],
   "source": [
    "# 컬럼명 변경\n",
    "atc.columns = ['id', 'display_url', 'article_id', 'keyword_list', 'magazine_id', 'reg_ts', 'sub_title', 'title', 'author_id', 'reg_datetime', 'reg_dt', 'type']"
   ]
  },
  {
   "cell_type": "code",
   "execution_count": 29,
   "metadata": {},
   "outputs": [
    {
     "data": {
      "text/html": [
       "<div>\n",
       "<style scoped>\n",
       "    .dataframe tbody tr th:only-of-type {\n",
       "        vertical-align: middle;\n",
       "    }\n",
       "\n",
       "    .dataframe tbody tr th {\n",
       "        vertical-align: top;\n",
       "    }\n",
       "\n",
       "    .dataframe thead th {\n",
       "        text-align: right;\n",
       "    }\n",
       "</style>\n",
       "<table border=\"1\" class=\"dataframe\">\n",
       "  <thead>\n",
       "    <tr style=\"text-align: right;\">\n",
       "      <th></th>\n",
       "      <th>id</th>\n",
       "      <th>display_url</th>\n",
       "      <th>article_id</th>\n",
       "      <th>keyword_list</th>\n",
       "      <th>magazine_id</th>\n",
       "      <th>reg_ts</th>\n",
       "      <th>sub_title</th>\n",
       "      <th>title</th>\n",
       "      <th>author_id</th>\n",
       "      <th>reg_datetime</th>\n",
       "      <th>reg_dt</th>\n",
       "      <th>type</th>\n",
       "    </tr>\n",
       "  </thead>\n",
       "  <tbody>\n",
       "    <tr>\n",
       "      <th>0</th>\n",
       "      <td>782</td>\n",
       "      <td>https://brunch.co.kr/@bookdb/782</td>\n",
       "      <td>@bookdb_782</td>\n",
       "      <td>[여행, 호주, 국립공원]</td>\n",
       "      <td>8982</td>\n",
       "      <td>1474944427000</td>\n",
       "      <td>세상 어디에도 없는 호주 Top 10</td>\n",
       "      <td>사진으로 옮기기에도 아까운, 리치필드 국립공원</td>\n",
       "      <td>@bookdb</td>\n",
       "      <td>2016-09-27 11:47:07</td>\n",
       "      <td>2016-09-27</td>\n",
       "      <td>매거진</td>\n",
       "    </tr>\n",
       "    <tr>\n",
       "      <th>1</th>\n",
       "      <td>81</td>\n",
       "      <td>https://brunch.co.kr/@kohwang56/81</td>\n",
       "      <td>@kohwang56_81</td>\n",
       "      <td>[목련꽃, 아지랑이, 동행]</td>\n",
       "      <td>12081</td>\n",
       "      <td>1463092749000</td>\n",
       "      <td></td>\n",
       "      <td>[시] 서러운 봄</td>\n",
       "      <td>@kohwang56</td>\n",
       "      <td>2016-05-13 07:39:09</td>\n",
       "      <td>2016-05-13</td>\n",
       "      <td>매거진</td>\n",
       "    </tr>\n",
       "    <tr>\n",
       "      <th>2</th>\n",
       "      <td>4</td>\n",
       "      <td>https://brunch.co.kr/@hannahajink/4</td>\n",
       "      <td>@hannahajink_4</td>\n",
       "      <td>[]</td>\n",
       "      <td>0</td>\n",
       "      <td>1447997287000</td>\n",
       "      <td>무엇 때문에</td>\n",
       "      <td>무엇을 위해</td>\n",
       "      <td>@hannahajink</td>\n",
       "      <td>2015-11-20 14:28:07</td>\n",
       "      <td>2015-11-20</td>\n",
       "      <td>개인</td>\n",
       "    </tr>\n",
       "    <tr>\n",
       "      <th>3</th>\n",
       "      <td>88</td>\n",
       "      <td>https://brunch.co.kr/@bryceandjuli/88</td>\n",
       "      <td>@bryceandjuli_88</td>\n",
       "      <td>[감정, 마음, 위로]</td>\n",
       "      <td>16315</td>\n",
       "      <td>1491055161000</td>\n",
       "      <td></td>\n",
       "      <td>싫다</td>\n",
       "      <td>@bryceandjuli</td>\n",
       "      <td>2017-04-01 22:59:21</td>\n",
       "      <td>2017-04-01</td>\n",
       "      <td>매거진</td>\n",
       "    </tr>\n",
       "    <tr>\n",
       "      <th>4</th>\n",
       "      <td>34</td>\n",
       "      <td>https://brunch.co.kr/@mijeongpark/34</td>\n",
       "      <td>@mijeongpark_34</td>\n",
       "      <td>[유럽여행, 더블린, 아일랜드]</td>\n",
       "      <td>29363</td>\n",
       "      <td>1523292942000</td>\n",
       "      <td>#7. 내 친구의 집은 어디인가</td>\n",
       "      <td>Dubliner#7</td>\n",
       "      <td>@mijeongpark</td>\n",
       "      <td>2018-04-10 01:55:42</td>\n",
       "      <td>2018-04-10</td>\n",
       "      <td>매거진</td>\n",
       "    </tr>\n",
       "  </tbody>\n",
       "</table>\n",
       "</div>"
      ],
      "text/plain": [
       "    id                            display_url        article_id  \\\n",
       "0  782       https://brunch.co.kr/@bookdb/782       @bookdb_782   \n",
       "1   81     https://brunch.co.kr/@kohwang56/81     @kohwang56_81   \n",
       "2    4    https://brunch.co.kr/@hannahajink/4    @hannahajink_4   \n",
       "3   88  https://brunch.co.kr/@bryceandjuli/88  @bryceandjuli_88   \n",
       "4   34   https://brunch.co.kr/@mijeongpark/34   @mijeongpark_34   \n",
       "\n",
       "        keyword_list  magazine_id         reg_ts             sub_title  \\\n",
       "0     [여행, 호주, 국립공원]         8982  1474944427000  세상 어디에도 없는 호주 Top 10   \n",
       "1    [목련꽃, 아지랑이, 동행]        12081  1463092749000                         \n",
       "2                 []            0  1447997287000                무엇 때문에   \n",
       "3       [감정, 마음, 위로]        16315  1491055161000                         \n",
       "4  [유럽여행, 더블린, 아일랜드]        29363  1523292942000     #7. 내 친구의 집은 어디인가   \n",
       "\n",
       "                       title      author_id        reg_datetime      reg_dt  \\\n",
       "0  사진으로 옮기기에도 아까운, 리치필드 국립공원        @bookdb 2016-09-27 11:47:07  2016-09-27   \n",
       "1                  [시] 서러운 봄     @kohwang56 2016-05-13 07:39:09  2016-05-13   \n",
       "2                     무엇을 위해   @hannahajink 2015-11-20 14:28:07  2015-11-20   \n",
       "3                         싫다  @bryceandjuli 2017-04-01 22:59:21  2017-04-01   \n",
       "4                 Dubliner#7   @mijeongpark 2018-04-10 01:55:42  2018-04-10   \n",
       "\n",
       "  type  \n",
       "0  매거진  \n",
       "1  매거진  \n",
       "2   개인  \n",
       "3  매거진  \n",
       "4  매거진  "
      ]
     },
     "execution_count": 29,
     "metadata": {},
     "output_type": "execute_result"
    }
   ],
   "source": [
    "atc.head()"
   ]
  },
  {
   "cell_type": "markdown",
   "metadata": {},
   "source": [
    "### b. 등록일자별 글 수"
   ]
  },
  {
   "cell_type": "code",
   "execution_count": 30,
   "metadata": {},
   "outputs": [],
   "source": [
    "atc_cnt_by_reg_dt = atc.groupby('reg_dt', as_index=False)['article_id'].count()"
   ]
  },
  {
   "cell_type": "code",
   "execution_count": 31,
   "metadata": {},
   "outputs": [
    {
     "data": {
      "text/plain": [
       "Text(0,0.5,'글 수')"
      ]
     },
     "execution_count": 31,
     "metadata": {},
     "output_type": "execute_result"
    },
    {
     "data": {
      "image/png": "[encoded data removed]",
      "text/plain": [
       "<Figure size 1440x720 with 1 Axes>"
      ]
     },
     "metadata": {
      "needs_background": "light"
     },
     "output_type": "display_data"
    }
   ],
   "source": [
    "sns.lineplot(data=atc_cnt_by_reg_dt[:-1], x='reg_dt', y='article_id', color='#49beb7')\n",
    "plt.title('등록일자별 글 수')\n",
    "plt.xlabel('글 등록일')\n",
    "plt.ylabel('글 수')"
   ]
  },
  {
   "cell_type": "code",
   "execution_count": null,
   "metadata": {},
   "outputs": [],
   "source": []
  },
  {
   "cell_type": "code",
   "execution_count": null,
   "metadata": {},
   "outputs": [],
   "source": []
  },
  {
   "cell_type": "markdown",
   "metadata": {},
   "source": [
    "## 2. 글 소비"
   ]
  },
  {
   "cell_type": "markdown",
   "metadata": {},
   "source": [
    "### a. 글별 소비수 통계"
   ]
  },
  {
   "cell_type": "code",
   "execution_count": 32,
   "metadata": {},
   "outputs": [],
   "source": [
    "atc_read_cnt = read_raw[read_raw.article_id != ''].groupby('article_id')['user_id'].count()"
   ]
  },
  {
   "cell_type": "code",
   "execution_count": 33,
   "metadata": {},
   "outputs": [
    {
     "data": {
      "text/plain": [
       "count    505840.000000\n",
       "mean         43.700988\n",
       "std         302.292764\n",
       "min           1.000000\n",
       "25%           3.000000\n",
       "50%           8.000000\n",
       "75%          25.000000\n",
       "max       97206.000000\n",
       "Name: user_id, dtype: float64"
      ]
     },
     "execution_count": 33,
     "metadata": {},
     "output_type": "execute_result"
    }
   ],
   "source": [
    "# 글별 소비수 통계\n",
    "atc_read_cnt.describe()"
   ]
  },
  {
   "cell_type": "code",
   "execution_count": 34,
   "metadata": {},
   "outputs": [
    {
     "data": {
      "text/plain": [
       "0.85     47.0\n",
       "0.95    141.0\n",
       "Name: user_id, dtype: float64"
      ]
     },
     "execution_count": 34,
     "metadata": {},
     "output_type": "execute_result"
    }
   ],
   "source": [
    "# 글별 소비수 85% 95% 기준 값\n",
    "atc_read_cnt.quantile([0.85, 0.95])"
   ]
  },
  {
   "cell_type": "code",
   "execution_count": 35,
   "metadata": {},
   "outputs": [],
   "source": [
    "atc_read_cnt = atc_read_cnt.reset_index()\n",
    "atc_read_cnt.columns = ['article_id', 'read_cnt']"
   ]
  },
  {
   "cell_type": "code",
   "execution_count": 36,
   "metadata": {},
   "outputs": [
    {
     "data": {
      "text/html": [
       "<div>\n",
       "<style scoped>\n",
       "    .dataframe tbody tr th:only-of-type {\n",
       "        vertical-align: middle;\n",
       "    }\n",
       "\n",
       "    .dataframe tbody tr th {\n",
       "        vertical-align: top;\n",
       "    }\n",
       "\n",
       "    .dataframe thead th {\n",
       "        text-align: right;\n",
       "    }\n",
       "</style>\n",
       "<table border=\"1\" class=\"dataframe\">\n",
       "  <thead>\n",
       "    <tr style=\"text-align: right;\">\n",
       "      <th></th>\n",
       "      <th>article_id</th>\n",
       "      <th>read_cnt</th>\n",
       "    </tr>\n",
       "  </thead>\n",
       "  <tbody>\n",
       "    <tr>\n",
       "      <th>505835</th>\n",
       "      <td>@zzzaam_6</td>\n",
       "      <td>114</td>\n",
       "    </tr>\n",
       "    <tr>\n",
       "      <th>505836</th>\n",
       "      <td>@zzzaam_7</td>\n",
       "      <td>42</td>\n",
       "    </tr>\n",
       "    <tr>\n",
       "      <th>505837</th>\n",
       "      <td>@zzzaam_8</td>\n",
       "      <td>80</td>\n",
       "    </tr>\n",
       "    <tr>\n",
       "      <th>505838</th>\n",
       "      <td>@zzzaam_9</td>\n",
       "      <td>43</td>\n",
       "    </tr>\n",
       "    <tr>\n",
       "      <th>505839</th>\n",
       "      <td>@zzzwhite_4</td>\n",
       "      <td>2</td>\n",
       "    </tr>\n",
       "  </tbody>\n",
       "</table>\n",
       "</div>"
      ],
      "text/plain": [
       "         article_id  read_cnt\n",
       "505835    @zzzaam_6       114\n",
       "505836    @zzzaam_7        42\n",
       "505837    @zzzaam_8        80\n",
       "505838    @zzzaam_9        43\n",
       "505839  @zzzwhite_4         2"
      ]
     },
     "execution_count": 36,
     "metadata": {},
     "output_type": "execute_result"
    }
   ],
   "source": [
    "atc_read_cnt.tail()"
   ]
  },
  {
   "cell_type": "code",
   "execution_count": 37,
   "metadata": {},
   "outputs": [],
   "source": [
    "#metadata 결합\n",
    "atc_read_cnt = pd.merge(atc_read_cnt, atc, how='left', left_on='article_id', right_on='article_id')"
   ]
  },
  {
   "cell_type": "code",
   "execution_count": 38,
   "metadata": {},
   "outputs": [
    {
     "data": {
      "text/plain": [
       "(505840, 13)"
      ]
     },
     "execution_count": 38,
     "metadata": {},
     "output_type": "execute_result"
    }
   ],
   "source": [
    "atc_read_cnt.shape"
   ]
  },
  {
   "cell_type": "code",
   "execution_count": 39,
   "metadata": {},
   "outputs": [
    {
     "data": {
      "text/html": [
       "<div>\n",
       "<style scoped>\n",
       "    .dataframe tbody tr th:only-of-type {\n",
       "        vertical-align: middle;\n",
       "    }\n",
       "\n",
       "    .dataframe tbody tr th {\n",
       "        vertical-align: top;\n",
       "    }\n",
       "\n",
       "    .dataframe thead th {\n",
       "        text-align: right;\n",
       "    }\n",
       "</style>\n",
       "<table border=\"1\" class=\"dataframe\">\n",
       "  <thead>\n",
       "    <tr style=\"text-align: right;\">\n",
       "      <th></th>\n",
       "      <th>article_id</th>\n",
       "      <th>read_cnt</th>\n",
       "      <th>id</th>\n",
       "      <th>display_url</th>\n",
       "      <th>keyword_list</th>\n",
       "      <th>magazine_id</th>\n",
       "      <th>reg_ts</th>\n",
       "      <th>sub_title</th>\n",
       "      <th>title</th>\n",
       "      <th>author_id</th>\n",
       "      <th>reg_datetime</th>\n",
       "      <th>reg_dt</th>\n",
       "      <th>type</th>\n",
       "    </tr>\n",
       "  </thead>\n",
       "  <tbody>\n",
       "    <tr>\n",
       "      <th>505835</th>\n",
       "      <td>@zzzaam_6</td>\n",
       "      <td>114</td>\n",
       "      <td>6.0</td>\n",
       "      <td>https://brunch.co.kr/@zzzaam/6</td>\n",
       "      <td>[디자인, UX, design]</td>\n",
       "      <td>0.0</td>\n",
       "      <td>1.489403e+12</td>\n",
       "      <td>Hacking Product Design</td>\n",
       "      <td>좋은 제품 UX 디자인을 위한 9가지 방법</td>\n",
       "      <td>@zzzaam</td>\n",
       "      <td>2017-03-13 20:08:01</td>\n",
       "      <td>2017-03-13</td>\n",
       "      <td>개인</td>\n",
       "    </tr>\n",
       "    <tr>\n",
       "      <th>505836</th>\n",
       "      <td>@zzzaam_7</td>\n",
       "      <td>42</td>\n",
       "      <td>7.0</td>\n",
       "      <td>https://brunch.co.kr/@zzzaam/7</td>\n",
       "      <td>[UX, 전략, 사용성]</td>\n",
       "      <td>0.0</td>\n",
       "      <td>1.490278e+12</td>\n",
       "      <td>Iteration is not design</td>\n",
       "      <td>반복적 디자인에 대한 소고</td>\n",
       "      <td>@zzzaam</td>\n",
       "      <td>2017-03-23 23:00:17</td>\n",
       "      <td>2017-03-23</td>\n",
       "      <td>개인</td>\n",
       "    </tr>\n",
       "    <tr>\n",
       "      <th>505837</th>\n",
       "      <td>@zzzaam_8</td>\n",
       "      <td>80</td>\n",
       "      <td>8.0</td>\n",
       "      <td>https://brunch.co.kr/@zzzaam/8</td>\n",
       "      <td>[인공지능, AI, 디자인]</td>\n",
       "      <td>0.0</td>\n",
       "      <td>1.493136e+12</td>\n",
       "      <td>AI와 휴머니티의 간극</td>\n",
       "      <td>인공지능과 미래의 디자인: 2025년의 디자이너</td>\n",
       "      <td>@zzzaam</td>\n",
       "      <td>2017-04-26 00:57:34</td>\n",
       "      <td>2017-04-26</td>\n",
       "      <td>개인</td>\n",
       "    </tr>\n",
       "    <tr>\n",
       "      <th>505838</th>\n",
       "      <td>@zzzaam_9</td>\n",
       "      <td>43</td>\n",
       "      <td>9.0</td>\n",
       "      <td>https://brunch.co.kr/@zzzaam/9</td>\n",
       "      <td>[UX, 작가, 글쓰기]</td>\n",
       "      <td>0.0</td>\n",
       "      <td>1.496501e+12</td>\n",
       "      <td>Writers + Designers = A match made in he</td>\n",
       "      <td>디자인팀에 작가가 필요한 이유</td>\n",
       "      <td>@zzzaam</td>\n",
       "      <td>2017-06-03 23:39:22</td>\n",
       "      <td>2017-06-03</td>\n",
       "      <td>개인</td>\n",
       "    </tr>\n",
       "    <tr>\n",
       "      <th>505839</th>\n",
       "      <td>@zzzwhite_4</td>\n",
       "      <td>2</td>\n",
       "      <td>4.0</td>\n",
       "      <td>https://brunch.co.kr/@zzzwhite/4</td>\n",
       "      <td>[감성그림, 희망, 엄마]</td>\n",
       "      <td>0.0</td>\n",
       "      <td>1.467290e+12</td>\n",
       "      <td>감성드로잉</td>\n",
       "      <td>너는 희망이다.</td>\n",
       "      <td>@zzzwhite</td>\n",
       "      <td>2016-06-30 21:30:54</td>\n",
       "      <td>2016-06-30</td>\n",
       "      <td>개인</td>\n",
       "    </tr>\n",
       "  </tbody>\n",
       "</table>\n",
       "</div>"
      ],
      "text/plain": [
       "         article_id  read_cnt   id                       display_url  \\\n",
       "505835    @zzzaam_6       114  6.0    https://brunch.co.kr/@zzzaam/6   \n",
       "505836    @zzzaam_7        42  7.0    https://brunch.co.kr/@zzzaam/7   \n",
       "505837    @zzzaam_8        80  8.0    https://brunch.co.kr/@zzzaam/8   \n",
       "505838    @zzzaam_9        43  9.0    https://brunch.co.kr/@zzzaam/9   \n",
       "505839  @zzzwhite_4         2  4.0  https://brunch.co.kr/@zzzwhite/4   \n",
       "\n",
       "             keyword_list  magazine_id        reg_ts  \\\n",
       "505835  [디자인, UX, design]          0.0  1.489403e+12   \n",
       "505836      [UX, 전략, 사용성]          0.0  1.490278e+12   \n",
       "505837    [인공지능, AI, 디자인]          0.0  1.493136e+12   \n",
       "505838      [UX, 작가, 글쓰기]          0.0  1.496501e+12   \n",
       "505839     [감성그림, 희망, 엄마]          0.0  1.467290e+12   \n",
       "\n",
       "                                       sub_title                       title  \\\n",
       "505835                    Hacking Product Design     좋은 제품 UX 디자인을 위한 9가지 방법   \n",
       "505836                   Iteration is not design              반복적 디자인에 대한 소고   \n",
       "505837                              AI와 휴머니티의 간극  인공지능과 미래의 디자인: 2025년의 디자이너   \n",
       "505838  Writers + Designers = A match made in he            디자인팀에 작가가 필요한 이유   \n",
       "505839                                     감성드로잉                    너는 희망이다.   \n",
       "\n",
       "        author_id        reg_datetime      reg_dt type  \n",
       "505835    @zzzaam 2017-03-13 20:08:01  2017-03-13   개인  \n",
       "505836    @zzzaam 2017-03-23 23:00:17  2017-03-23   개인  \n",
       "505837    @zzzaam 2017-04-26 00:57:34  2017-04-26   개인  \n",
       "505838    @zzzaam 2017-06-03 23:39:22  2017-06-03   개인  \n",
       "505839  @zzzwhite 2016-06-30 21:30:54  2016-06-30   개인  "
      ]
     },
     "execution_count": 39,
     "metadata": {},
     "output_type": "execute_result"
    }
   ],
   "source": [
    "atc_read_cnt.tail()"
   ]
  },
  {
   "cell_type": "code",
   "execution_count": 40,
   "metadata": {},
   "outputs": [],
   "source": [
    "# metadata를 찾을 수 없는 소비 로그 제외\n",
    "atc_read_cnt_nn = atc_read_cnt[atc_read_cnt['id'].notnull()]"
   ]
  },
  {
   "cell_type": "code",
   "execution_count": 41,
   "metadata": {},
   "outputs": [
    {
     "data": {
      "text/plain": [
       "count    476147.000000\n",
       "mean         43.904592\n",
       "std         304.873256\n",
       "min           1.000000\n",
       "25%           3.000000\n",
       "50%           8.000000\n",
       "75%          25.000000\n",
       "max       97206.000000\n",
       "Name: read_cnt, dtype: float64"
      ]
     },
     "execution_count": 41,
     "metadata": {},
     "output_type": "execute_result"
    }
   ],
   "source": [
    "# metadata를 찾을 수 없는 로그를 제외한 후 글별 소비수 통계\n",
    "atc_read_cnt_nn['read_cnt'].describe()"
   ]
  },
  {
   "cell_type": "code",
   "execution_count": 42,
   "metadata": {},
   "outputs": [
    {
     "data": {
      "text/plain": [
       "0.90     72.0\n",
       "0.95    142.0\n",
       "Name: read_cnt, dtype: float64"
      ]
     },
     "execution_count": 42,
     "metadata": {},
     "output_type": "execute_result"
    }
   ],
   "source": [
    "# 글별 소비수 90% 95% 기준 값\n",
    "atc_read_cnt_nn['read_cnt'].quantile([0.90, 0.95])"
   ]
  },
  {
   "cell_type": "code",
   "execution_count": 43,
   "metadata": {},
   "outputs": [],
   "source": [
    "# 소비수 기준 분류값\n",
    "def get_class(x):\n",
    "    if x >= 142:\n",
    "        result = '5%'\n",
    "    elif x >= 72:\n",
    "        result = '10%'\n",
    "    elif x >= 25:\n",
    "        result = '25%'\n",
    "    elif x >= 8:\n",
    "        result = '50%'\n",
    "    elif x >= 3:\n",
    "        result = '75%'\n",
    "    else:\n",
    "        result = '100%'\n",
    "    return result"
   ]
  },
  {
   "cell_type": "code",
   "execution_count": 44,
   "metadata": {},
   "outputs": [
    {
     "name": "stderr",
     "output_type": "stream",
     "text": [
      "/data/app/anaconda3/lib/python3.7/site-packages/ipykernel_launcher.py:1: SettingWithCopyWarning: \n",
      "A value is trying to be set on a copy of a slice from a DataFrame.\n",
      "Try using .loc[row_indexer,col_indexer] = value instead\n",
      "\n",
      "See the caveats in the documentation: http://pandas.pydata.org/pandas-docs/stable/indexing.html#indexing-view-versus-copy\n",
      "  \"\"\"Entry point for launching an IPython kernel.\n"
     ]
    }
   ],
   "source": [
    "atc_read_cnt_nn['class'] = atc_read_cnt_nn['read_cnt'].map(get_class)"
   ]
  },
  {
   "cell_type": "code",
   "execution_count": 45,
   "metadata": {},
   "outputs": [
    {
     "data": {
      "text/html": [
       "<div>\n",
       "<style scoped>\n",
       "    .dataframe tbody tr th:only-of-type {\n",
       "        vertical-align: middle;\n",
       "    }\n",
       "\n",
       "    .dataframe tbody tr th {\n",
       "        vertical-align: top;\n",
       "    }\n",
       "\n",
       "    .dataframe thead th {\n",
       "        text-align: right;\n",
       "    }\n",
       "</style>\n",
       "<table border=\"1\" class=\"dataframe\">\n",
       "  <thead>\n",
       "    <tr style=\"text-align: right;\">\n",
       "      <th></th>\n",
       "      <th>article_id</th>\n",
       "      <th>read_cnt</th>\n",
       "      <th>id</th>\n",
       "      <th>display_url</th>\n",
       "      <th>keyword_list</th>\n",
       "      <th>magazine_id</th>\n",
       "      <th>reg_ts</th>\n",
       "      <th>sub_title</th>\n",
       "      <th>title</th>\n",
       "      <th>author_id</th>\n",
       "      <th>reg_datetime</th>\n",
       "      <th>reg_dt</th>\n",
       "      <th>type</th>\n",
       "      <th>class</th>\n",
       "    </tr>\n",
       "  </thead>\n",
       "  <tbody>\n",
       "    <tr>\n",
       "      <th>5417</th>\n",
       "      <td>@002_10</td>\n",
       "      <td>2</td>\n",
       "      <td>10.0</td>\n",
       "      <td>https://brunch.co.kr/@002/10</td>\n",
       "      <td>[계란, 살충제, 피해]</td>\n",
       "      <td>0.0</td>\n",
       "      <td>1.504448e+12</td>\n",
       "      <td>정직한 농가에 대한 피해보상은 소비자 신뢰를 돌려주는 것</td>\n",
       "      <td>'80% 안심계란' 포기하게 한 20% 살충제 계란</td>\n",
       "      <td>@002</td>\n",
       "      <td>2017-09-03 23:12:35</td>\n",
       "      <td>2017-09-03</td>\n",
       "      <td>개인</td>\n",
       "      <td>100%</td>\n",
       "    </tr>\n",
       "    <tr>\n",
       "      <th>5418</th>\n",
       "      <td>@002_2</td>\n",
       "      <td>6</td>\n",
       "      <td>2.0</td>\n",
       "      <td>https://brunch.co.kr/@002/2</td>\n",
       "      <td>[귀촌, 농촌, 청년농업인]</td>\n",
       "      <td>0.0</td>\n",
       "      <td>1.501030e+12</td>\n",
       "      <td>삶의 가치를 찾아 유랑하는 청년들의 'YOLO 라이프'</td>\n",
       "      <td>청년들은 '왜' 농촌으로 갔을까?</td>\n",
       "      <td>@002</td>\n",
       "      <td>2017-07-26 09:46:45</td>\n",
       "      <td>2017-07-26</td>\n",
       "      <td>개인</td>\n",
       "      <td>75%</td>\n",
       "    </tr>\n",
       "    <tr>\n",
       "      <th>5419</th>\n",
       "      <td>@002jesus_1</td>\n",
       "      <td>10</td>\n",
       "      <td>1.0</td>\n",
       "      <td>https://brunch.co.kr/@002jesus/1</td>\n",
       "      <td>[후원, 기부, 비영리]</td>\n",
       "      <td>0.0</td>\n",
       "      <td>1.549456e+12</td>\n",
       "      <td>비영리를 바라보는 편견들 (1)</td>\n",
       "      <td>우리는 왜 가난해야 하나요?</td>\n",
       "      <td>@002jesus</td>\n",
       "      <td>2019-02-06 21:18:49</td>\n",
       "      <td>2019-02-06</td>\n",
       "      <td>개인</td>\n",
       "      <td>50%</td>\n",
       "    </tr>\n",
       "    <tr>\n",
       "      <th>5420</th>\n",
       "      <td>@002paper_2</td>\n",
       "      <td>3</td>\n",
       "      <td>2.0</td>\n",
       "      <td>https://brunch.co.kr/@002paper/2</td>\n",
       "      <td>[제주, 서울생활, 서울]</td>\n",
       "      <td>0.0</td>\n",
       "      <td>1.470905e+12</td>\n",
       "      <td>현실과 꿈의 거리..</td>\n",
       "      <td>할수 있는 것과 하고 싶은 것</td>\n",
       "      <td>@002paper</td>\n",
       "      <td>2016-08-11 17:49:42</td>\n",
       "      <td>2016-08-11</td>\n",
       "      <td>개인</td>\n",
       "      <td>75%</td>\n",
       "    </tr>\n",
       "    <tr>\n",
       "      <th>5421</th>\n",
       "      <td>@002paper_3</td>\n",
       "      <td>2</td>\n",
       "      <td>3.0</td>\n",
       "      <td>https://brunch.co.kr/@002paper/3</td>\n",
       "      <td>[바램, 일상에세이, 긍정]</td>\n",
       "      <td>0.0</td>\n",
       "      <td>1.470913e+12</td>\n",
       "      <td>된다. 된다. 될거다....</td>\n",
       "      <td>긍정적으로 생각하며 주문을 걸기..</td>\n",
       "      <td>@002paper</td>\n",
       "      <td>2016-08-11 19:58:52</td>\n",
       "      <td>2016-08-11</td>\n",
       "      <td>개인</td>\n",
       "      <td>100%</td>\n",
       "    </tr>\n",
       "  </tbody>\n",
       "</table>\n",
       "</div>"
      ],
      "text/plain": [
       "       article_id  read_cnt    id                       display_url  \\\n",
       "5417      @002_10         2  10.0      https://brunch.co.kr/@002/10   \n",
       "5418       @002_2         6   2.0       https://brunch.co.kr/@002/2   \n",
       "5419  @002jesus_1        10   1.0  https://brunch.co.kr/@002jesus/1   \n",
       "5420  @002paper_2         3   2.0  https://brunch.co.kr/@002paper/2   \n",
       "5421  @002paper_3         2   3.0  https://brunch.co.kr/@002paper/3   \n",
       "\n",
       "         keyword_list  magazine_id        reg_ts  \\\n",
       "5417    [계란, 살충제, 피해]          0.0  1.504448e+12   \n",
       "5418  [귀촌, 농촌, 청년농업인]          0.0  1.501030e+12   \n",
       "5419    [후원, 기부, 비영리]          0.0  1.549456e+12   \n",
       "5420   [제주, 서울생활, 서울]          0.0  1.470905e+12   \n",
       "5421  [바램, 일상에세이, 긍정]          0.0  1.470913e+12   \n",
       "\n",
       "                            sub_title                         title  \\\n",
       "5417  정직한 농가에 대한 피해보상은 소비자 신뢰를 돌려주는 것  '80% 안심계란' 포기하게 한 20% 살충제 계란   \n",
       "5418  삶의 가치를 찾아 유랑하는 청년들의 'YOLO 라이프'             청년들은 '왜' 농촌으로 갔을까?   \n",
       "5419                비영리를 바라보는 편견들 (1)              우리는 왜 가난해야 하나요?    \n",
       "5420                      현실과 꿈의 거리..              할수 있는 것과 하고 싶은 것   \n",
       "5421                  된다. 된다. 될거다....           긍정적으로 생각하며 주문을 걸기..   \n",
       "\n",
       "      author_id        reg_datetime      reg_dt type class  \n",
       "5417       @002 2017-09-03 23:12:35  2017-09-03   개인  100%  \n",
       "5418       @002 2017-07-26 09:46:45  2017-07-26   개인   75%  \n",
       "5419  @002jesus 2019-02-06 21:18:49  2019-02-06   개인   50%  \n",
       "5420  @002paper 2016-08-11 17:49:42  2016-08-11   개인   75%  \n",
       "5421  @002paper 2016-08-11 19:58:52  2016-08-11   개인  100%  "
      ]
     },
     "execution_count": 45,
     "metadata": {},
     "output_type": "execute_result"
    }
   ],
   "source": [
    "atc_read_cnt_nn.head()"
   ]
  },
  {
   "cell_type": "markdown",
   "metadata": {},
   "source": [
    "### b. 등록일자별 글 소비수"
   ]
  },
  {
   "cell_type": "code",
   "execution_count": 46,
   "metadata": {},
   "outputs": [
    {
     "data": {
      "text/plain": [
       "Text(0,0.5,'글 소비수')"
      ]
     },
     "execution_count": 46,
     "metadata": {},
     "output_type": "execute_result"
    },
    {
     "data": {
      "image/png": "[encoded data removed]",
      "text/plain": [
       "<Figure size 1440x720 with 1 Axes>"
      ]
     },
     "metadata": {
      "needs_background": "light"
     },
     "output_type": "display_data"
    }
   ],
   "source": [
    "lm = sns.scatterplot(data=atc_read_cnt_nn, x='reg_dt', y='read_cnt', color='#49beb7')\n",
    "lm.set(xlim=(datetime.date(datetime(2015, 4, 1)), datetime.date(datetime(2019, 3, 30))))\n",
    "plt.title('등록일자별 글 소비수')\n",
    "plt.xlabel('글 등록일')\n",
    "plt.ylabel('글 소비수')"
   ]
  },
  {
   "cell_type": "markdown",
   "metadata": {},
   "source": [
    "- 두 개의 아티클이 글 소비수가 매우 높음 \n",
    "- 그래프를 자세히 보기 위해 두 개의 아티클을 제외하고 다시 그려보자"
   ]
  },
  {
   "cell_type": "code",
   "execution_count": 47,
   "metadata": {},
   "outputs": [
    {
     "data": {
      "text/html": [
       "<div>\n",
       "<style scoped>\n",
       "    .dataframe tbody tr th:only-of-type {\n",
       "        vertical-align: middle;\n",
       "    }\n",
       "\n",
       "    .dataframe tbody tr th {\n",
       "        vertical-align: top;\n",
       "    }\n",
       "\n",
       "    .dataframe thead th {\n",
       "        text-align: right;\n",
       "    }\n",
       "</style>\n",
       "<table border=\"1\" class=\"dataframe\">\n",
       "  <thead>\n",
       "    <tr style=\"text-align: right;\">\n",
       "      <th></th>\n",
       "      <th>article_id</th>\n",
       "      <th>read_cnt</th>\n",
       "      <th>id</th>\n",
       "      <th>display_url</th>\n",
       "      <th>keyword_list</th>\n",
       "      <th>magazine_id</th>\n",
       "      <th>reg_ts</th>\n",
       "      <th>sub_title</th>\n",
       "      <th>title</th>\n",
       "      <th>author_id</th>\n",
       "      <th>reg_datetime</th>\n",
       "      <th>reg_dt</th>\n",
       "      <th>type</th>\n",
       "      <th>class</th>\n",
       "    </tr>\n",
       "  </thead>\n",
       "  <tbody>\n",
       "    <tr>\n",
       "      <th>63061</th>\n",
       "      <td>@brunch_141</td>\n",
       "      <td>97206</td>\n",
       "      <td>141.0</td>\n",
       "      <td>https://brunch.co.kr/@brunch/141</td>\n",
       "      <td>[브런치X빨강머리앤, 빨강머리앤, 출판, 작가]</td>\n",
       "      <td>0.0</td>\n",
       "      <td>1.539742e+12</td>\n",
       "      <td>글·그림 작가 파트너 프로젝트</td>\n",
       "      <td>브런치 작가가 함께 빨강머리 앤을 그리고 쓰다.</td>\n",
       "      <td>@brunch</td>\n",
       "      <td>2018-10-17 11:11:22</td>\n",
       "      <td>2018-10-17</td>\n",
       "      <td>개인</td>\n",
       "      <td>5%</td>\n",
       "    </tr>\n",
       "    <tr>\n",
       "      <th>63070</th>\n",
       "      <td>@brunch_151</td>\n",
       "      <td>66903</td>\n",
       "      <td>151.0</td>\n",
       "      <td>https://brunch.co.kr/@brunch/151</td>\n",
       "      <td>[브런치, 시사회, 브런치무비패스]</td>\n",
       "      <td>0.0</td>\n",
       "      <td>1.550466e+12</td>\n",
       "      <td>브런치 무비 패스 5기 작가 모집</td>\n",
       "      <td>브런치 무비 패스, 영화의 진한 여운을 나누세요</td>\n",
       "      <td>@brunch</td>\n",
       "      <td>2019-02-18 14:00:34</td>\n",
       "      <td>2019-02-18</td>\n",
       "      <td>개인</td>\n",
       "      <td>5%</td>\n",
       "    </tr>\n",
       "  </tbody>\n",
       "</table>\n",
       "</div>"
      ],
      "text/plain": [
       "        article_id  read_cnt     id                       display_url  \\\n",
       "63061  @brunch_141     97206  141.0  https://brunch.co.kr/@brunch/141   \n",
       "63070  @brunch_151     66903  151.0  https://brunch.co.kr/@brunch/151   \n",
       "\n",
       "                     keyword_list  magazine_id        reg_ts  \\\n",
       "63061  [브런치X빨강머리앤, 빨강머리앤, 출판, 작가]          0.0  1.539742e+12   \n",
       "63070         [브런치, 시사회, 브런치무비패스]          0.0  1.550466e+12   \n",
       "\n",
       "                sub_title                       title author_id  \\\n",
       "63061    글·그림 작가 파트너 프로젝트  브런치 작가가 함께 빨강머리 앤을 그리고 쓰다.   @brunch   \n",
       "63070  브런치 무비 패스 5기 작가 모집  브런치 무비 패스, 영화의 진한 여운을 나누세요   @brunch   \n",
       "\n",
       "             reg_datetime      reg_dt type class  \n",
       "63061 2018-10-17 11:11:22  2018-10-17   개인    5%  \n",
       "63070 2019-02-18 14:00:34  2019-02-18   개인    5%  "
      ]
     },
     "execution_count": 47,
     "metadata": {},
     "output_type": "execute_result"
    }
   ],
   "source": [
    "atc_read_cnt_nn.sort_values(by='read_cnt', ascending=False).head(2)"
   ]
  },
  {
   "cell_type": "code",
   "execution_count": 48,
   "metadata": {},
   "outputs": [
    {
     "data": {
      "text/plain": [
       "Text(0,0.5,'글 소비수')"
      ]
     },
     "execution_count": 48,
     "metadata": {},
     "output_type": "execute_result"
    },
    {
     "data": {
      "image/png": "[encoded data removed]",
      "text/plain": [
       "<Figure size 1440x720 with 1 Axes>"
      ]
     },
     "metadata": {
      "needs_background": "light"
     },
     "output_type": "display_data"
    }
   ],
   "source": [
    "# 특이값 2개 데이터를 제외\n",
    "lm = sns.scatterplot(data=atc_read_cnt_nn[~atc_read_cnt_nn.article_id.isin(['@brunch_141', '@brunch_151'])], x='reg_dt', y='read_cnt', hue='type', alpha=0.5, palette=['#49beb7', '#ff5959'])\n",
    "lm.set(xlim=(datetime.date(datetime(2015, 4, 1)), datetime.date(datetime(2019, 3, 30))))\n",
    "plt.title('등록일자별 글 소비수')\n",
    "plt.xlabel('글 등록일')\n",
    "plt.ylabel('글 소비수')"
   ]
  },
  {
   "cell_type": "code",
   "execution_count": null,
   "metadata": {},
   "outputs": [],
   "source": []
  },
  {
   "cell_type": "code",
   "execution_count": null,
   "metadata": {},
   "outputs": [],
   "source": []
  },
  {
   "cell_type": "markdown",
   "metadata": {},
   "source": [
    "## 3. 경과일에 따른 글 소비 변화"
   ]
  },
  {
   "cell_type": "markdown",
   "metadata": {},
   "source": [
    "### a. 데이터 전처리"
   ]
  },
  {
   "cell_type": "code",
   "execution_count": 49,
   "metadata": {},
   "outputs": [],
   "source": [
    "off_data = pd.merge(read_raw, atc, how='inner', left_on='article_id', right_on='article_id')"
   ]
  },
  {
   "cell_type": "code",
   "execution_count": 50,
   "metadata": {},
   "outputs": [
    {
     "data": {
      "text/plain": [
       "(20905040, 15)"
      ]
     },
     "execution_count": 50,
     "metadata": {},
     "output_type": "execute_result"
    }
   ],
   "source": [
    "off_data.shape"
   ]
  },
  {
   "cell_type": "code",
   "execution_count": 51,
   "metadata": {},
   "outputs": [
    {
     "data": {
      "text/html": [
       "<div>\n",
       "<style scoped>\n",
       "    .dataframe tbody tr th:only-of-type {\n",
       "        vertical-align: middle;\n",
       "    }\n",
       "\n",
       "    .dataframe tbody tr th {\n",
       "        vertical-align: top;\n",
       "    }\n",
       "\n",
       "    .dataframe thead th {\n",
       "        text-align: right;\n",
       "    }\n",
       "</style>\n",
       "<table border=\"1\" class=\"dataframe\">\n",
       "  <thead>\n",
       "    <tr style=\"text-align: right;\">\n",
       "      <th></th>\n",
       "      <th>dt</th>\n",
       "      <th>hr</th>\n",
       "      <th>user_id</th>\n",
       "      <th>article_id</th>\n",
       "      <th>id</th>\n",
       "      <th>display_url</th>\n",
       "      <th>keyword_list</th>\n",
       "      <th>magazine_id</th>\n",
       "      <th>reg_ts</th>\n",
       "      <th>sub_title</th>\n",
       "      <th>title</th>\n",
       "      <th>author_id</th>\n",
       "      <th>reg_datetime</th>\n",
       "      <th>reg_dt</th>\n",
       "      <th>type</th>\n",
       "    </tr>\n",
       "  </thead>\n",
       "  <tbody>\n",
       "    <tr>\n",
       "      <th>0</th>\n",
       "      <td>20181001</td>\n",
       "      <td>00</td>\n",
       "      <td>#e208be4ffea19b1ceb5cea2e3c4dc32c</td>\n",
       "      <td>@kty0613_91</td>\n",
       "      <td>91</td>\n",
       "      <td>https://brunch.co.kr/@kty0613/91</td>\n",
       "      <td>[연애, 남자친구, 이성]</td>\n",
       "      <td>38720</td>\n",
       "      <td>1538321174000</td>\n",
       "      <td>문제는 만남의 '기회'가 아닌 만남의 '기준'</td>\n",
       "      <td>좋은 이성을 만나는 기준</td>\n",
       "      <td>@kty0613</td>\n",
       "      <td>2018-10-01 00:26:14</td>\n",
       "      <td>2018-10-01</td>\n",
       "      <td>매거진</td>\n",
       "    </tr>\n",
       "    <tr>\n",
       "      <th>1</th>\n",
       "      <td>20181001</td>\n",
       "      <td>00</td>\n",
       "      <td>#e6097910257c8b79380da50b4bce705b</td>\n",
       "      <td>@kty0613_91</td>\n",
       "      <td>91</td>\n",
       "      <td>https://brunch.co.kr/@kty0613/91</td>\n",
       "      <td>[연애, 남자친구, 이성]</td>\n",
       "      <td>38720</td>\n",
       "      <td>1538321174000</td>\n",
       "      <td>문제는 만남의 '기회'가 아닌 만남의 '기준'</td>\n",
       "      <td>좋은 이성을 만나는 기준</td>\n",
       "      <td>@kty0613</td>\n",
       "      <td>2018-10-01 00:26:14</td>\n",
       "      <td>2018-10-01</td>\n",
       "      <td>매거진</td>\n",
       "    </tr>\n",
       "    <tr>\n",
       "      <th>2</th>\n",
       "      <td>20181001</td>\n",
       "      <td>00</td>\n",
       "      <td>#abfa7b43a9c3f4894ca450b0436fcd38</td>\n",
       "      <td>@kty0613_91</td>\n",
       "      <td>91</td>\n",
       "      <td>https://brunch.co.kr/@kty0613/91</td>\n",
       "      <td>[연애, 남자친구, 이성]</td>\n",
       "      <td>38720</td>\n",
       "      <td>1538321174000</td>\n",
       "      <td>문제는 만남의 '기회'가 아닌 만남의 '기준'</td>\n",
       "      <td>좋은 이성을 만나는 기준</td>\n",
       "      <td>@kty0613</td>\n",
       "      <td>2018-10-01 00:26:14</td>\n",
       "      <td>2018-10-01</td>\n",
       "      <td>매거진</td>\n",
       "    </tr>\n",
       "    <tr>\n",
       "      <th>3</th>\n",
       "      <td>20181001</td>\n",
       "      <td>00</td>\n",
       "      <td>#abfa7b43a9c3f4894ca450b0436fcd38</td>\n",
       "      <td>@kty0613_91</td>\n",
       "      <td>91</td>\n",
       "      <td>https://brunch.co.kr/@kty0613/91</td>\n",
       "      <td>[연애, 남자친구, 이성]</td>\n",
       "      <td>38720</td>\n",
       "      <td>1538321174000</td>\n",
       "      <td>문제는 만남의 '기회'가 아닌 만남의 '기준'</td>\n",
       "      <td>좋은 이성을 만나는 기준</td>\n",
       "      <td>@kty0613</td>\n",
       "      <td>2018-10-01 00:26:14</td>\n",
       "      <td>2018-10-01</td>\n",
       "      <td>매거진</td>\n",
       "    </tr>\n",
       "    <tr>\n",
       "      <th>4</th>\n",
       "      <td>20181001</td>\n",
       "      <td>00</td>\n",
       "      <td>#bd4b6d5a32bcbe4a81419309af898630</td>\n",
       "      <td>@kty0613_91</td>\n",
       "      <td>91</td>\n",
       "      <td>https://brunch.co.kr/@kty0613/91</td>\n",
       "      <td>[연애, 남자친구, 이성]</td>\n",
       "      <td>38720</td>\n",
       "      <td>1538321174000</td>\n",
       "      <td>문제는 만남의 '기회'가 아닌 만남의 '기준'</td>\n",
       "      <td>좋은 이성을 만나는 기준</td>\n",
       "      <td>@kty0613</td>\n",
       "      <td>2018-10-01 00:26:14</td>\n",
       "      <td>2018-10-01</td>\n",
       "      <td>매거진</td>\n",
       "    </tr>\n",
       "  </tbody>\n",
       "</table>\n",
       "</div>"
      ],
      "text/plain": [
       "         dt  hr                            user_id   article_id  id  \\\n",
       "0  20181001  00  #e208be4ffea19b1ceb5cea2e3c4dc32c  @kty0613_91  91   \n",
       "1  20181001  00  #e6097910257c8b79380da50b4bce705b  @kty0613_91  91   \n",
       "2  20181001  00  #abfa7b43a9c3f4894ca450b0436fcd38  @kty0613_91  91   \n",
       "3  20181001  00  #abfa7b43a9c3f4894ca450b0436fcd38  @kty0613_91  91   \n",
       "4  20181001  00  #bd4b6d5a32bcbe4a81419309af898630  @kty0613_91  91   \n",
       "\n",
       "                        display_url    keyword_list  magazine_id  \\\n",
       "0  https://brunch.co.kr/@kty0613/91  [연애, 남자친구, 이성]        38720   \n",
       "1  https://brunch.co.kr/@kty0613/91  [연애, 남자친구, 이성]        38720   \n",
       "2  https://brunch.co.kr/@kty0613/91  [연애, 남자친구, 이성]        38720   \n",
       "3  https://brunch.co.kr/@kty0613/91  [연애, 남자친구, 이성]        38720   \n",
       "4  https://brunch.co.kr/@kty0613/91  [연애, 남자친구, 이성]        38720   \n",
       "\n",
       "          reg_ts                  sub_title          title author_id  \\\n",
       "0  1538321174000  문제는 만남의 '기회'가 아닌 만남의 '기준'  좋은 이성을 만나는 기준  @kty0613   \n",
       "1  1538321174000  문제는 만남의 '기회'가 아닌 만남의 '기준'  좋은 이성을 만나는 기준  @kty0613   \n",
       "2  1538321174000  문제는 만남의 '기회'가 아닌 만남의 '기준'  좋은 이성을 만나는 기준  @kty0613   \n",
       "3  1538321174000  문제는 만남의 '기회'가 아닌 만남의 '기준'  좋은 이성을 만나는 기준  @kty0613   \n",
       "4  1538321174000  문제는 만남의 '기회'가 아닌 만남의 '기준'  좋은 이성을 만나는 기준  @kty0613   \n",
       "\n",
       "         reg_datetime      reg_dt type  \n",
       "0 2018-10-01 00:26:14  2018-10-01  매거진  \n",
       "1 2018-10-01 00:26:14  2018-10-01  매거진  \n",
       "2 2018-10-01 00:26:14  2018-10-01  매거진  \n",
       "3 2018-10-01 00:26:14  2018-10-01  매거진  \n",
       "4 2018-10-01 00:26:14  2018-10-01  매거진  "
      ]
     },
     "execution_count": 51,
     "metadata": {},
     "output_type": "execute_result"
    }
   ],
   "source": [
    "off_data.head()"
   ]
  },
  {
   "cell_type": "code",
   "execution_count": 52,
   "metadata": {},
   "outputs": [],
   "source": [
    "off_data.columns = ['read_dt', 'hr', 'user_id', 'article_id', 'article_seq', 'display_url',\n",
    "                    'keyword_list', 'magazine_id', 'reg_ts', 'sub_title', 'title',\n",
    "                    'author_id', 'reg_datetime', 'reg_dt', 'type']"
   ]
  },
  {
   "cell_type": "code",
   "execution_count": 53,
   "metadata": {},
   "outputs": [],
   "source": [
    "off_data = off_data[['read_dt', 'user_id', 'article_id', 'title', 'sub_title', 'author_id', 'reg_dt', 'type', 'display_url', 'keyword_list', 'magazine_id']]"
   ]
  },
  {
   "cell_type": "code",
   "execution_count": 54,
   "metadata": {},
   "outputs": [],
   "source": [
    "off_data['read_dt'] = pd.to_datetime(off_data['read_dt'], format='%Y%m%d')\n",
    "off_data['reg_dt'] = pd.to_datetime(off_data['reg_dt'], format='%Y-%m-%d')\n",
    "off_data['off_day'] = (off_data['read_dt'] - off_data['reg_dt']).dt.days"
   ]
  },
  {
   "cell_type": "code",
   "execution_count": 55,
   "metadata": {},
   "outputs": [],
   "source": [
    "# meatadata와 join\n",
    "off_data = pd.merge(off_data, atc_read_cnt_nn[['article_id', 'read_cnt', 'class']], how='left', left_on='article_id', right_on='article_id')"
   ]
  },
  {
   "cell_type": "code",
   "execution_count": 56,
   "metadata": {},
   "outputs": [
    {
     "data": {
      "text/plain": [
       "(20905040, 14)"
      ]
     },
     "execution_count": 56,
     "metadata": {},
     "output_type": "execute_result"
    }
   ],
   "source": [
    "off_data.shape"
   ]
  },
  {
   "cell_type": "code",
   "execution_count": 57,
   "metadata": {},
   "outputs": [
    {
     "data": {
      "text/html": [
       "<div>\n",
       "<style scoped>\n",
       "    .dataframe tbody tr th:only-of-type {\n",
       "        vertical-align: middle;\n",
       "    }\n",
       "\n",
       "    .dataframe tbody tr th {\n",
       "        vertical-align: top;\n",
       "    }\n",
       "\n",
       "    .dataframe thead th {\n",
       "        text-align: right;\n",
       "    }\n",
       "</style>\n",
       "<table border=\"1\" class=\"dataframe\">\n",
       "  <thead>\n",
       "    <tr style=\"text-align: right;\">\n",
       "      <th></th>\n",
       "      <th>read_dt</th>\n",
       "      <th>user_id</th>\n",
       "      <th>article_id</th>\n",
       "      <th>title</th>\n",
       "      <th>sub_title</th>\n",
       "      <th>author_id</th>\n",
       "      <th>reg_dt</th>\n",
       "      <th>type</th>\n",
       "      <th>display_url</th>\n",
       "      <th>keyword_list</th>\n",
       "      <th>magazine_id</th>\n",
       "      <th>off_day</th>\n",
       "      <th>read_cnt</th>\n",
       "      <th>class</th>\n",
       "    </tr>\n",
       "  </thead>\n",
       "  <tbody>\n",
       "    <tr>\n",
       "      <th>0</th>\n",
       "      <td>2018-10-01</td>\n",
       "      <td>#e208be4ffea19b1ceb5cea2e3c4dc32c</td>\n",
       "      <td>@kty0613_91</td>\n",
       "      <td>좋은 이성을 만나는 기준</td>\n",
       "      <td>문제는 만남의 '기회'가 아닌 만남의 '기준'</td>\n",
       "      <td>@kty0613</td>\n",
       "      <td>2018-10-01</td>\n",
       "      <td>매거진</td>\n",
       "      <td>https://brunch.co.kr/@kty0613/91</td>\n",
       "      <td>[연애, 남자친구, 이성]</td>\n",
       "      <td>38720</td>\n",
       "      <td>0</td>\n",
       "      <td>298</td>\n",
       "      <td>5%</td>\n",
       "    </tr>\n",
       "    <tr>\n",
       "      <th>1</th>\n",
       "      <td>2018-10-01</td>\n",
       "      <td>#e6097910257c8b79380da50b4bce705b</td>\n",
       "      <td>@kty0613_91</td>\n",
       "      <td>좋은 이성을 만나는 기준</td>\n",
       "      <td>문제는 만남의 '기회'가 아닌 만남의 '기준'</td>\n",
       "      <td>@kty0613</td>\n",
       "      <td>2018-10-01</td>\n",
       "      <td>매거진</td>\n",
       "      <td>https://brunch.co.kr/@kty0613/91</td>\n",
       "      <td>[연애, 남자친구, 이성]</td>\n",
       "      <td>38720</td>\n",
       "      <td>0</td>\n",
       "      <td>298</td>\n",
       "      <td>5%</td>\n",
       "    </tr>\n",
       "    <tr>\n",
       "      <th>2</th>\n",
       "      <td>2018-10-01</td>\n",
       "      <td>#abfa7b43a9c3f4894ca450b0436fcd38</td>\n",
       "      <td>@kty0613_91</td>\n",
       "      <td>좋은 이성을 만나는 기준</td>\n",
       "      <td>문제는 만남의 '기회'가 아닌 만남의 '기준'</td>\n",
       "      <td>@kty0613</td>\n",
       "      <td>2018-10-01</td>\n",
       "      <td>매거진</td>\n",
       "      <td>https://brunch.co.kr/@kty0613/91</td>\n",
       "      <td>[연애, 남자친구, 이성]</td>\n",
       "      <td>38720</td>\n",
       "      <td>0</td>\n",
       "      <td>298</td>\n",
       "      <td>5%</td>\n",
       "    </tr>\n",
       "    <tr>\n",
       "      <th>3</th>\n",
       "      <td>2018-10-01</td>\n",
       "      <td>#abfa7b43a9c3f4894ca450b0436fcd38</td>\n",
       "      <td>@kty0613_91</td>\n",
       "      <td>좋은 이성을 만나는 기준</td>\n",
       "      <td>문제는 만남의 '기회'가 아닌 만남의 '기준'</td>\n",
       "      <td>@kty0613</td>\n",
       "      <td>2018-10-01</td>\n",
       "      <td>매거진</td>\n",
       "      <td>https://brunch.co.kr/@kty0613/91</td>\n",
       "      <td>[연애, 남자친구, 이성]</td>\n",
       "      <td>38720</td>\n",
       "      <td>0</td>\n",
       "      <td>298</td>\n",
       "      <td>5%</td>\n",
       "    </tr>\n",
       "    <tr>\n",
       "      <th>4</th>\n",
       "      <td>2018-10-01</td>\n",
       "      <td>#bd4b6d5a32bcbe4a81419309af898630</td>\n",
       "      <td>@kty0613_91</td>\n",
       "      <td>좋은 이성을 만나는 기준</td>\n",
       "      <td>문제는 만남의 '기회'가 아닌 만남의 '기준'</td>\n",
       "      <td>@kty0613</td>\n",
       "      <td>2018-10-01</td>\n",
       "      <td>매거진</td>\n",
       "      <td>https://brunch.co.kr/@kty0613/91</td>\n",
       "      <td>[연애, 남자친구, 이성]</td>\n",
       "      <td>38720</td>\n",
       "      <td>0</td>\n",
       "      <td>298</td>\n",
       "      <td>5%</td>\n",
       "    </tr>\n",
       "  </tbody>\n",
       "</table>\n",
       "</div>"
      ],
      "text/plain": [
       "     read_dt                            user_id   article_id          title  \\\n",
       "0 2018-10-01  #e208be4ffea19b1ceb5cea2e3c4dc32c  @kty0613_91  좋은 이성을 만나는 기준   \n",
       "1 2018-10-01  #e6097910257c8b79380da50b4bce705b  @kty0613_91  좋은 이성을 만나는 기준   \n",
       "2 2018-10-01  #abfa7b43a9c3f4894ca450b0436fcd38  @kty0613_91  좋은 이성을 만나는 기준   \n",
       "3 2018-10-01  #abfa7b43a9c3f4894ca450b0436fcd38  @kty0613_91  좋은 이성을 만나는 기준   \n",
       "4 2018-10-01  #bd4b6d5a32bcbe4a81419309af898630  @kty0613_91  좋은 이성을 만나는 기준   \n",
       "\n",
       "                   sub_title author_id     reg_dt type  \\\n",
       "0  문제는 만남의 '기회'가 아닌 만남의 '기준'  @kty0613 2018-10-01  매거진   \n",
       "1  문제는 만남의 '기회'가 아닌 만남의 '기준'  @kty0613 2018-10-01  매거진   \n",
       "2  문제는 만남의 '기회'가 아닌 만남의 '기준'  @kty0613 2018-10-01  매거진   \n",
       "3  문제는 만남의 '기회'가 아닌 만남의 '기준'  @kty0613 2018-10-01  매거진   \n",
       "4  문제는 만남의 '기회'가 아닌 만남의 '기준'  @kty0613 2018-10-01  매거진   \n",
       "\n",
       "                        display_url    keyword_list  magazine_id  off_day  \\\n",
       "0  https://brunch.co.kr/@kty0613/91  [연애, 남자친구, 이성]        38720        0   \n",
       "1  https://brunch.co.kr/@kty0613/91  [연애, 남자친구, 이성]        38720        0   \n",
       "2  https://brunch.co.kr/@kty0613/91  [연애, 남자친구, 이성]        38720        0   \n",
       "3  https://brunch.co.kr/@kty0613/91  [연애, 남자친구, 이성]        38720        0   \n",
       "4  https://brunch.co.kr/@kty0613/91  [연애, 남자친구, 이성]        38720        0   \n",
       "\n",
       "   read_cnt class  \n",
       "0       298    5%  \n",
       "1       298    5%  \n",
       "2       298    5%  \n",
       "3       298    5%  \n",
       "4       298    5%  "
      ]
     },
     "execution_count": 57,
     "metadata": {},
     "output_type": "execute_result"
    }
   ],
   "source": [
    "off_data.head()"
   ]
  },
  {
   "cell_type": "code",
   "execution_count": 58,
   "metadata": {},
   "outputs": [],
   "source": [
    "off_data_agg = off_data.groupby(['article_id', 'off_day', 'read_dt', 'reg_dt', 'title', 'author_id', 'type', 'display_url', 'magazine_id', 'class'], as_index=False)['user_id'].count()"
   ]
  },
  {
   "cell_type": "code",
   "execution_count": 59,
   "metadata": {},
   "outputs": [
    {
     "data": {
      "text/html": [
       "<div>\n",
       "<style scoped>\n",
       "    .dataframe tbody tr th:only-of-type {\n",
       "        vertical-align: middle;\n",
       "    }\n",
       "\n",
       "    .dataframe tbody tr th {\n",
       "        vertical-align: top;\n",
       "    }\n",
       "\n",
       "    .dataframe thead th {\n",
       "        text-align: right;\n",
       "    }\n",
       "</style>\n",
       "<table border=\"1\" class=\"dataframe\">\n",
       "  <thead>\n",
       "    <tr style=\"text-align: right;\">\n",
       "      <th></th>\n",
       "      <th>article_id</th>\n",
       "      <th>off_day</th>\n",
       "      <th>read_dt</th>\n",
       "      <th>reg_dt</th>\n",
       "      <th>title</th>\n",
       "      <th>author_id</th>\n",
       "      <th>type</th>\n",
       "      <th>display_url</th>\n",
       "      <th>magazine_id</th>\n",
       "      <th>class</th>\n",
       "      <th>user_id</th>\n",
       "    </tr>\n",
       "  </thead>\n",
       "  <tbody>\n",
       "    <tr>\n",
       "      <th>166</th>\n",
       "      <td>@01023920600_18</td>\n",
       "      <td>-26324</td>\n",
       "      <td>2018-12-05</td>\n",
       "      <td>2090-12-31</td>\n",
       "      <td>김영화가</td>\n",
       "      <td>@01023920600</td>\n",
       "      <td>매거진</td>\n",
       "      <td>https://brunch.co.kr/@01023920600/18</td>\n",
       "      <td>8123</td>\n",
       "      <td>75%</td>\n",
       "      <td>2</td>\n",
       "    </tr>\n",
       "    <tr>\n",
       "      <th>167</th>\n",
       "      <td>@01023920600_18</td>\n",
       "      <td>-26303</td>\n",
       "      <td>2018-12-26</td>\n",
       "      <td>2090-12-31</td>\n",
       "      <td>김영화가</td>\n",
       "      <td>@01023920600</td>\n",
       "      <td>매거진</td>\n",
       "      <td>https://brunch.co.kr/@01023920600/18</td>\n",
       "      <td>8123</td>\n",
       "      <td>75%</td>\n",
       "      <td>2</td>\n",
       "    </tr>\n",
       "    <tr>\n",
       "      <th>168</th>\n",
       "      <td>@01023920600_18</td>\n",
       "      <td>-26280</td>\n",
       "      <td>2019-01-18</td>\n",
       "      <td>2090-12-31</td>\n",
       "      <td>김영화가</td>\n",
       "      <td>@01023920600</td>\n",
       "      <td>매거진</td>\n",
       "      <td>https://brunch.co.kr/@01023920600/18</td>\n",
       "      <td>8123</td>\n",
       "      <td>75%</td>\n",
       "      <td>1</td>\n",
       "    </tr>\n",
       "    <tr>\n",
       "      <th>172</th>\n",
       "      <td>@01023920600_2</td>\n",
       "      <td>-26324</td>\n",
       "      <td>2018-12-05</td>\n",
       "      <td>2090-12-31</td>\n",
       "      <td>효자되는 소액투자  돈불리는 소액투자</td>\n",
       "      <td>@01023920600</td>\n",
       "      <td>개인</td>\n",
       "      <td>https://brunch.co.kr/@01023920600/2</td>\n",
       "      <td>0</td>\n",
       "      <td>75%</td>\n",
       "      <td>2</td>\n",
       "    </tr>\n",
       "    <tr>\n",
       "      <th>173</th>\n",
       "      <td>@01023920600_2</td>\n",
       "      <td>-26303</td>\n",
       "      <td>2018-12-26</td>\n",
       "      <td>2090-12-31</td>\n",
       "      <td>효자되는 소액투자  돈불리는 소액투자</td>\n",
       "      <td>@01023920600</td>\n",
       "      <td>개인</td>\n",
       "      <td>https://brunch.co.kr/@01023920600/2</td>\n",
       "      <td>0</td>\n",
       "      <td>75%</td>\n",
       "      <td>2</td>\n",
       "    </tr>\n",
       "  </tbody>\n",
       "</table>\n",
       "</div>"
      ],
      "text/plain": [
       "          article_id  off_day    read_dt     reg_dt                 title  \\\n",
       "166  @01023920600_18   -26324 2018-12-05 2090-12-31                  김영화가   \n",
       "167  @01023920600_18   -26303 2018-12-26 2090-12-31                  김영화가   \n",
       "168  @01023920600_18   -26280 2019-01-18 2090-12-31                  김영화가   \n",
       "172   @01023920600_2   -26324 2018-12-05 2090-12-31  효자되는 소액투자  돈불리는 소액투자   \n",
       "173   @01023920600_2   -26303 2018-12-26 2090-12-31  효자되는 소액투자  돈불리는 소액투자   \n",
       "\n",
       "        author_id type                           display_url  magazine_id  \\\n",
       "166  @01023920600  매거진  https://brunch.co.kr/@01023920600/18         8123   \n",
       "167  @01023920600  매거진  https://brunch.co.kr/@01023920600/18         8123   \n",
       "168  @01023920600  매거진  https://brunch.co.kr/@01023920600/18         8123   \n",
       "172  @01023920600   개인   https://brunch.co.kr/@01023920600/2            0   \n",
       "173  @01023920600   개인   https://brunch.co.kr/@01023920600/2            0   \n",
       "\n",
       "    class  user_id  \n",
       "166   75%        2  \n",
       "167   75%        2  \n",
       "168   75%        1  \n",
       "172   75%        2  \n",
       "173   75%        2  "
      ]
     },
     "execution_count": 59,
     "metadata": {},
     "output_type": "execute_result"
    }
   ],
   "source": [
    "# 등록일자가 missing된 로그들\n",
    "off_data_agg[off_data_agg.off_day < 0].head()"
   ]
  },
  {
   "cell_type": "markdown",
   "metadata": {},
   "source": [
    "### b. 경과일에 따른 글 소비 변화"
   ]
  },
  {
   "cell_type": "code",
   "execution_count": 60,
   "metadata": {},
   "outputs": [],
   "source": [
    "# 경과일자별 소비수 총합\n",
    "off_day_sum = off_data_agg[(off_data_agg['reg_dt'] >= datetime(2018, 10, 1)) & (off_data_agg.off_day >= 0)].groupby('off_day')['user_id'].sum()"
   ]
  },
  {
   "cell_type": "code",
   "execution_count": 61,
   "metadata": {},
   "outputs": [],
   "source": [
    "# 경과일자에 등록되어있는 아티클 수\n",
    "reg_dt_cnt = off_data_agg[(off_data_agg['reg_dt'] >= datetime(2018, 10, 1)) & (off_data_agg.off_day >= 0)].groupby('reg_dt')['article_id'].nunique()"
   ]
  },
  {
   "cell_type": "code",
   "execution_count": 62,
   "metadata": {},
   "outputs": [],
   "source": [
    "off_day_avg = pd.concat([off_day_sum, reg_dt_cnt.cumsum().sort_index(ascending=False).reset_index()], axis=1)"
   ]
  },
  {
   "cell_type": "code",
   "execution_count": 63,
   "metadata": {},
   "outputs": [],
   "source": [
    "off_day_avg['off_avg'] = off_day_avg['user_id'] / off_day_avg['article_id']"
   ]
  },
  {
   "cell_type": "code",
   "execution_count": 64,
   "metadata": {},
   "outputs": [],
   "source": [
    "off_day_avg['percentile'] = off_day_avg['off_avg'] / off_day_avg['off_avg'].sum()"
   ]
  },
  {
   "cell_type": "code",
   "execution_count": 65,
   "metadata": {},
   "outputs": [],
   "source": [
    "off_day_avg['cum_per'] = off_day_avg['percentile'].cumsum()"
   ]
  },
  {
   "cell_type": "code",
   "execution_count": 66,
   "metadata": {},
   "outputs": [
    {
     "data": {
      "text/html": [
       "<div>\n",
       "<style scoped>\n",
       "    .dataframe tbody tr th:only-of-type {\n",
       "        vertical-align: middle;\n",
       "    }\n",
       "\n",
       "    .dataframe tbody tr th {\n",
       "        vertical-align: top;\n",
       "    }\n",
       "\n",
       "    .dataframe thead th {\n",
       "        text-align: right;\n",
       "    }\n",
       "</style>\n",
       "<table border=\"1\" class=\"dataframe\">\n",
       "  <thead>\n",
       "    <tr style=\"text-align: right;\">\n",
       "      <th></th>\n",
       "      <th>user_id</th>\n",
       "      <th>reg_dt</th>\n",
       "      <th>article_id</th>\n",
       "      <th>off_avg</th>\n",
       "      <th>percentile</th>\n",
       "      <th>cum_per</th>\n",
       "    </tr>\n",
       "  </thead>\n",
       "  <tbody>\n",
       "    <tr>\n",
       "      <th>0</th>\n",
       "      <td>3142049</td>\n",
       "      <td>2019-02-28</td>\n",
       "      <td>107356</td>\n",
       "      <td>29.267568</td>\n",
       "      <td>0.207084</td>\n",
       "      <td>0.207084</td>\n",
       "    </tr>\n",
       "    <tr>\n",
       "      <th>1</th>\n",
       "      <td>1726882</td>\n",
       "      <td>2019-02-27</td>\n",
       "      <td>106649</td>\n",
       "      <td>16.192201</td>\n",
       "      <td>0.114569</td>\n",
       "      <td>0.321653</td>\n",
       "    </tr>\n",
       "    <tr>\n",
       "      <th>2</th>\n",
       "      <td>1017862</td>\n",
       "      <td>2019-02-26</td>\n",
       "      <td>105891</td>\n",
       "      <td>9.612356</td>\n",
       "      <td>0.068013</td>\n",
       "      <td>0.389665</td>\n",
       "    </tr>\n",
       "    <tr>\n",
       "      <th>3</th>\n",
       "      <td>776093</td>\n",
       "      <td>2019-02-25</td>\n",
       "      <td>105156</td>\n",
       "      <td>7.380397</td>\n",
       "      <td>0.052220</td>\n",
       "      <td>0.441886</td>\n",
       "    </tr>\n",
       "    <tr>\n",
       "      <th>4</th>\n",
       "      <td>632960</td>\n",
       "      <td>2019-02-24</td>\n",
       "      <td>104308</td>\n",
       "      <td>6.068183</td>\n",
       "      <td>0.042936</td>\n",
       "      <td>0.484821</td>\n",
       "    </tr>\n",
       "    <tr>\n",
       "      <th>5</th>\n",
       "      <td>529081</td>\n",
       "      <td>2019-02-23</td>\n",
       "      <td>103611</td>\n",
       "      <td>5.106417</td>\n",
       "      <td>0.036131</td>\n",
       "      <td>0.520952</td>\n",
       "    </tr>\n",
       "    <tr>\n",
       "      <th>6</th>\n",
       "      <td>436611</td>\n",
       "      <td>2019-02-22</td>\n",
       "      <td>103019</td>\n",
       "      <td>4.238160</td>\n",
       "      <td>0.029987</td>\n",
       "      <td>0.550939</td>\n",
       "    </tr>\n",
       "    <tr>\n",
       "      <th>7</th>\n",
       "      <td>412530</td>\n",
       "      <td>2019-02-21</td>\n",
       "      <td>102167</td>\n",
       "      <td>4.037801</td>\n",
       "      <td>0.028570</td>\n",
       "      <td>0.579509</td>\n",
       "    </tr>\n",
       "    <tr>\n",
       "      <th>8</th>\n",
       "      <td>236772</td>\n",
       "      <td>2019-02-20</td>\n",
       "      <td>101343</td>\n",
       "      <td>2.336343</td>\n",
       "      <td>0.016531</td>\n",
       "      <td>0.596040</td>\n",
       "    </tr>\n",
       "    <tr>\n",
       "      <th>9</th>\n",
       "      <td>193039</td>\n",
       "      <td>2019-02-19</td>\n",
       "      <td>100511</td>\n",
       "      <td>1.920576</td>\n",
       "      <td>0.013589</td>\n",
       "      <td>0.609629</td>\n",
       "    </tr>\n",
       "  </tbody>\n",
       "</table>\n",
       "</div>"
      ],
      "text/plain": [
       "   user_id     reg_dt  article_id    off_avg  percentile   cum_per\n",
       "0  3142049 2019-02-28      107356  29.267568    0.207084  0.207084\n",
       "1  1726882 2019-02-27      106649  16.192201    0.114569  0.321653\n",
       "2  1017862 2019-02-26      105891   9.612356    0.068013  0.389665\n",
       "3   776093 2019-02-25      105156   7.380397    0.052220  0.441886\n",
       "4   632960 2019-02-24      104308   6.068183    0.042936  0.484821\n",
       "5   529081 2019-02-23      103611   5.106417    0.036131  0.520952\n",
       "6   436611 2019-02-22      103019   4.238160    0.029987  0.550939\n",
       "7   412530 2019-02-21      102167   4.037801    0.028570  0.579509\n",
       "8   236772 2019-02-20      101343   2.336343    0.016531  0.596040\n",
       "9   193039 2019-02-19      100511   1.920576    0.013589  0.609629"
      ]
     },
     "execution_count": 66,
     "metadata": {},
     "output_type": "execute_result"
    }
   ],
   "source": [
    "off_day_avg.head(10)"
   ]
  },
  {
   "cell_type": "code",
   "execution_count": 67,
   "metadata": {},
   "outputs": [
    {
     "data": {
      "text/plain": [
       "Text(0,0.5,'평균 글 소비수')"
      ]
     },
     "execution_count": 67,
     "metadata": {},
     "output_type": "execute_result"
    },
    {
     "data": {
      "image/png": "[encoded data removed]",
      "text/plain": [
       "<Figure size 1440x720 with 1 Axes>"
      ]
     },
     "metadata": {
      "needs_background": "light"
     },
     "output_type": "display_data"
    }
   ],
   "source": [
    "sns.lineplot(data=off_day_avg, x=off_day_avg.index, y='off_avg', color='#49beb7')\n",
    "plt.title('경과일에 따른 글 소비수 변화')\n",
    "plt.xlabel('경과일')\n",
    "plt.ylabel('평균 글 소비수')"
   ]
  },
  {
   "cell_type": "code",
   "execution_count": null,
   "metadata": {},
   "outputs": [],
   "source": []
  },
  {
   "cell_type": "code",
   "execution_count": null,
   "metadata": {},
   "outputs": [],
   "source": []
  },
  {
   "cell_type": "markdown",
   "metadata": {},
   "source": [
    "## 4. 위클리 매거진"
   ]
  },
  {
   "cell_type": "code",
   "execution_count": 68,
   "metadata": {},
   "outputs": [],
   "source": [
    "magazine_34075 = atc_read_cnt_nn[atc_read_cnt_nn.magazine_id == 34075]"
   ]
  },
  {
   "cell_type": "code",
   "execution_count": 69,
   "metadata": {},
   "outputs": [
    {
     "data": {
      "text/html": [
       "<div>\n",
       "<style scoped>\n",
       "    .dataframe tbody tr th:only-of-type {\n",
       "        vertical-align: middle;\n",
       "    }\n",
       "\n",
       "    .dataframe tbody tr th {\n",
       "        vertical-align: top;\n",
       "    }\n",
       "\n",
       "    .dataframe thead th {\n",
       "        text-align: right;\n",
       "    }\n",
       "</style>\n",
       "<table border=\"1\" class=\"dataframe\">\n",
       "  <thead>\n",
       "    <tr style=\"text-align: right;\">\n",
       "      <th></th>\n",
       "      <th>article_id</th>\n",
       "      <th>read_cnt</th>\n",
       "      <th>id</th>\n",
       "      <th>display_url</th>\n",
       "      <th>keyword_list</th>\n",
       "      <th>magazine_id</th>\n",
       "      <th>reg_ts</th>\n",
       "      <th>sub_title</th>\n",
       "      <th>title</th>\n",
       "      <th>author_id</th>\n",
       "      <th>reg_datetime</th>\n",
       "      <th>reg_dt</th>\n",
       "      <th>type</th>\n",
       "      <th>class</th>\n",
       "    </tr>\n",
       "  </thead>\n",
       "  <tbody>\n",
       "    <tr>\n",
       "      <th>299425</th>\n",
       "      <td>@merryseo_51</td>\n",
       "      <td>3946</td>\n",
       "      <td>51.0</td>\n",
       "      <td>https://brunch.co.kr/@merryseo/51</td>\n",
       "      <td>[퇴사, 일러스트, 에세이]</td>\n",
       "      <td>34075.0</td>\n",
       "      <td>1.532531e+12</td>\n",
       "      <td>기술도 없는 사무직 퇴사자의 프리랜서 도전기</td>\n",
       "      <td>\"프리랜서입니다\"</td>\n",
       "      <td>@merryseo</td>\n",
       "      <td>2018-07-26</td>\n",
       "      <td>2018-07-26</td>\n",
       "      <td>매거진</td>\n",
       "      <td>5%</td>\n",
       "    </tr>\n",
       "    <tr>\n",
       "      <th>299426</th>\n",
       "      <td>@merryseo_52</td>\n",
       "      <td>4906</td>\n",
       "      <td>52.0</td>\n",
       "      <td>https://brunch.co.kr/@merryseo/52</td>\n",
       "      <td>[퇴사, 에세이, 일러스트]</td>\n",
       "      <td>34075.0</td>\n",
       "      <td>1.533136e+12</td>\n",
       "      <td>기술도 없는 사무직 퇴사자의 프리랜서 도전기</td>\n",
       "      <td>퇴사를 결심하다</td>\n",
       "      <td>@merryseo</td>\n",
       "      <td>2018-08-02</td>\n",
       "      <td>2018-08-02</td>\n",
       "      <td>매거진</td>\n",
       "      <td>5%</td>\n",
       "    </tr>\n",
       "    <tr>\n",
       "      <th>299427</th>\n",
       "      <td>@merryseo_53</td>\n",
       "      <td>7620</td>\n",
       "      <td>53.0</td>\n",
       "      <td>https://brunch.co.kr/@merryseo/53</td>\n",
       "      <td>[퇴사, 에세이, 일러스트]</td>\n",
       "      <td>34075.0</td>\n",
       "      <td>1.533740e+12</td>\n",
       "      <td>기술도 없는 사무직 퇴사자의 프리랜서 도전기</td>\n",
       "      <td>회사 체질이 아니야</td>\n",
       "      <td>@merryseo</td>\n",
       "      <td>2018-08-09</td>\n",
       "      <td>2018-08-09</td>\n",
       "      <td>매거진</td>\n",
       "      <td>5%</td>\n",
       "    </tr>\n",
       "    <tr>\n",
       "      <th>299428</th>\n",
       "      <td>@merryseo_54</td>\n",
       "      <td>3134</td>\n",
       "      <td>54.0</td>\n",
       "      <td>https://brunch.co.kr/@merryseo/54</td>\n",
       "      <td>[퇴사, 프리랜서, 에세이]</td>\n",
       "      <td>34075.0</td>\n",
       "      <td>1.534345e+12</td>\n",
       "      <td>기술도 없는 사무직 퇴사자의 프리랜서 도전기</td>\n",
       "      <td>프리랜서? 좋지. 근데 기술은 있고?</td>\n",
       "      <td>@merryseo</td>\n",
       "      <td>2018-08-16</td>\n",
       "      <td>2018-08-16</td>\n",
       "      <td>매거진</td>\n",
       "      <td>5%</td>\n",
       "    </tr>\n",
       "    <tr>\n",
       "      <th>299429</th>\n",
       "      <td>@merryseo_55</td>\n",
       "      <td>3112</td>\n",
       "      <td>55.0</td>\n",
       "      <td>https://brunch.co.kr/@merryseo/55</td>\n",
       "      <td>[프리랜서, 퇴사, 에세이]</td>\n",
       "      <td>34075.0</td>\n",
       "      <td>1.534950e+12</td>\n",
       "      <td>기술도 없는 사무직 퇴사자의 프리랜서 도전기</td>\n",
       "      <td>생각보다 넓고 깊은 프리랜서의 세계</td>\n",
       "      <td>@merryseo</td>\n",
       "      <td>2018-08-23</td>\n",
       "      <td>2018-08-23</td>\n",
       "      <td>매거진</td>\n",
       "      <td>5%</td>\n",
       "    </tr>\n",
       "    <tr>\n",
       "      <th>299430</th>\n",
       "      <td>@merryseo_56</td>\n",
       "      <td>2942</td>\n",
       "      <td>56.0</td>\n",
       "      <td>https://brunch.co.kr/@merryseo/56</td>\n",
       "      <td>[퇴사, 프리랜서, 에세이]</td>\n",
       "      <td>34075.0</td>\n",
       "      <td>1.535555e+12</td>\n",
       "      <td>기술도 없는 사무직 퇴사자의 프리랜서 도전기</td>\n",
       "      <td>세상에서 가장 소심한 퇴사 준비</td>\n",
       "      <td>@merryseo</td>\n",
       "      <td>2018-08-30</td>\n",
       "      <td>2018-08-30</td>\n",
       "      <td>매거진</td>\n",
       "      <td>5%</td>\n",
       "    </tr>\n",
       "    <tr>\n",
       "      <th>299431</th>\n",
       "      <td>@merryseo_57</td>\n",
       "      <td>2745</td>\n",
       "      <td>57.0</td>\n",
       "      <td>https://brunch.co.kr/@merryseo/57</td>\n",
       "      <td>[퇴사, 프리랜서, 에세이]</td>\n",
       "      <td>34075.0</td>\n",
       "      <td>1.536160e+12</td>\n",
       "      <td>기술도 없는 사무직 퇴사자의 프리랜서 도전기</td>\n",
       "      <td>한 달 동안의 아주 사치스러운 백수 생활</td>\n",
       "      <td>@merryseo</td>\n",
       "      <td>2018-09-06</td>\n",
       "      <td>2018-09-06</td>\n",
       "      <td>매거진</td>\n",
       "      <td>5%</td>\n",
       "    </tr>\n",
       "    <tr>\n",
       "      <th>299432</th>\n",
       "      <td>@merryseo_58</td>\n",
       "      <td>2522</td>\n",
       "      <td>58.0</td>\n",
       "      <td>https://brunch.co.kr/@merryseo/58</td>\n",
       "      <td>[퇴사, 프리랜서, 에세이]</td>\n",
       "      <td>34075.0</td>\n",
       "      <td>1.536764e+12</td>\n",
       "      <td>기술도 없는 사무직 퇴사자의 프리랜서 도전기</td>\n",
       "      <td>이렇게 평범한 내가 프리랜서를?</td>\n",
       "      <td>@merryseo</td>\n",
       "      <td>2018-09-13</td>\n",
       "      <td>2018-09-13</td>\n",
       "      <td>매거진</td>\n",
       "      <td>5%</td>\n",
       "    </tr>\n",
       "    <tr>\n",
       "      <th>299433</th>\n",
       "      <td>@merryseo_59</td>\n",
       "      <td>2687</td>\n",
       "      <td>59.0</td>\n",
       "      <td>https://brunch.co.kr/@merryseo/59</td>\n",
       "      <td>[프리랜서, 퇴사, 에세이]</td>\n",
       "      <td>34075.0</td>\n",
       "      <td>1.537369e+12</td>\n",
       "      <td>기술도 없는 사무직 퇴사자의 프리랜서 도전기</td>\n",
       "      <td>역시 사람은 기술을 배워야 혀~</td>\n",
       "      <td>@merryseo</td>\n",
       "      <td>2018-09-20</td>\n",
       "      <td>2018-09-20</td>\n",
       "      <td>매거진</td>\n",
       "      <td>5%</td>\n",
       "    </tr>\n",
       "    <tr>\n",
       "      <th>299435</th>\n",
       "      <td>@merryseo_61</td>\n",
       "      <td>3356</td>\n",
       "      <td>61.0</td>\n",
       "      <td>https://brunch.co.kr/@merryseo/61</td>\n",
       "      <td>[퇴사, 프리랜서, 일상툰]</td>\n",
       "      <td>34075.0</td>\n",
       "      <td>1.537974e+12</td>\n",
       "      <td>기술도 없는 사무직 퇴사자의 프리랜서 도전기</td>\n",
       "      <td>뭔가 플러스 알파가 필요해</td>\n",
       "      <td>@merryseo</td>\n",
       "      <td>2018-09-27</td>\n",
       "      <td>2018-09-27</td>\n",
       "      <td>매거진</td>\n",
       "      <td>5%</td>\n",
       "    </tr>\n",
       "    <tr>\n",
       "      <th>299436</th>\n",
       "      <td>@merryseo_62</td>\n",
       "      <td>4950</td>\n",
       "      <td>62.0</td>\n",
       "      <td>https://brunch.co.kr/@merryseo/62</td>\n",
       "      <td>[퇴사, 프리랜서, 에세이]</td>\n",
       "      <td>34075.0</td>\n",
       "      <td>1.538579e+12</td>\n",
       "      <td>기술도 없는 사무직 퇴사자의 프리랜서 도전기</td>\n",
       "      <td>일이 없는 프리랜서도 프리랜서일까</td>\n",
       "      <td>@merryseo</td>\n",
       "      <td>2018-10-04</td>\n",
       "      <td>2018-10-04</td>\n",
       "      <td>매거진</td>\n",
       "      <td>5%</td>\n",
       "    </tr>\n",
       "    <tr>\n",
       "      <th>299437</th>\n",
       "      <td>@merryseo_63</td>\n",
       "      <td>5652</td>\n",
       "      <td>63.0</td>\n",
       "      <td>https://brunch.co.kr/@merryseo/63</td>\n",
       "      <td>[퇴사, 프리랜서, 에세이]</td>\n",
       "      <td>34075.0</td>\n",
       "      <td>1.539184e+12</td>\n",
       "      <td>기술도 없는 사무직 퇴사자의 프리랜서 도전기</td>\n",
       "      <td>무슨 일이든 일단 하고 보자</td>\n",
       "      <td>@merryseo</td>\n",
       "      <td>2018-10-11</td>\n",
       "      <td>2018-10-11</td>\n",
       "      <td>매거진</td>\n",
       "      <td>5%</td>\n",
       "    </tr>\n",
       "    <tr>\n",
       "      <th>299438</th>\n",
       "      <td>@merryseo_64</td>\n",
       "      <td>5701</td>\n",
       "      <td>64.0</td>\n",
       "      <td>https://brunch.co.kr/@merryseo/64</td>\n",
       "      <td>[퇴사, 프리랜서, 에세이]</td>\n",
       "      <td>34075.0</td>\n",
       "      <td>1.539788e+12</td>\n",
       "      <td>기술도 없는 사무직 퇴사자의 프리랜서 도전기</td>\n",
       "      <td>스카우트 제의, 기회일까? 시련일까?</td>\n",
       "      <td>@merryseo</td>\n",
       "      <td>2018-10-18</td>\n",
       "      <td>2018-10-18</td>\n",
       "      <td>매거진</td>\n",
       "      <td>5%</td>\n",
       "    </tr>\n",
       "    <tr>\n",
       "      <th>299439</th>\n",
       "      <td>@merryseo_65</td>\n",
       "      <td>4798</td>\n",
       "      <td>65.0</td>\n",
       "      <td>https://brunch.co.kr/@merryseo/65</td>\n",
       "      <td>[퇴사, 프리랜서, 에세이]</td>\n",
       "      <td>34075.0</td>\n",
       "      <td>1.540393e+12</td>\n",
       "      <td>기술도 없는 사무직 퇴사자의 프리랜서 도전기</td>\n",
       "      <td>생계를 위해 잠시 회사로 돌아가다</td>\n",
       "      <td>@merryseo</td>\n",
       "      <td>2018-10-25</td>\n",
       "      <td>2018-10-25</td>\n",
       "      <td>매거진</td>\n",
       "      <td>5%</td>\n",
       "    </tr>\n",
       "    <tr>\n",
       "      <th>299441</th>\n",
       "      <td>@merryseo_67</td>\n",
       "      <td>3585</td>\n",
       "      <td>67.0</td>\n",
       "      <td>https://brunch.co.kr/@merryseo/67</td>\n",
       "      <td>[퇴사, 일러스트, 에세이]</td>\n",
       "      <td>34075.0</td>\n",
       "      <td>1.540998e+12</td>\n",
       "      <td>기술도 없는 사무직 퇴사자의 프리랜서 도전기</td>\n",
       "      <td>두 번째 퇴사, 첫 번째 일감</td>\n",
       "      <td>@merryseo</td>\n",
       "      <td>2018-11-01</td>\n",
       "      <td>2018-11-01</td>\n",
       "      <td>매거진</td>\n",
       "      <td>5%</td>\n",
       "    </tr>\n",
       "    <tr>\n",
       "      <th>299443</th>\n",
       "      <td>@merryseo_69</td>\n",
       "      <td>4019</td>\n",
       "      <td>69.0</td>\n",
       "      <td>https://brunch.co.kr/@merryseo/69</td>\n",
       "      <td>[퇴사, 일러스트, 에세이]</td>\n",
       "      <td>34075.0</td>\n",
       "      <td>1.541603e+12</td>\n",
       "      <td>기술도 없는 사무직 퇴사자의 프리랜서 도전기</td>\n",
       "      <td>프리랜서에게도 비빌 언덕이 필요하다</td>\n",
       "      <td>@merryseo</td>\n",
       "      <td>2018-11-08</td>\n",
       "      <td>2018-11-08</td>\n",
       "      <td>매거진</td>\n",
       "      <td>5%</td>\n",
       "    </tr>\n",
       "    <tr>\n",
       "      <th>299446</th>\n",
       "      <td>@merryseo_71</td>\n",
       "      <td>4062</td>\n",
       "      <td>71.0</td>\n",
       "      <td>https://brunch.co.kr/@merryseo/71</td>\n",
       "      <td>[퇴사, 에세이, 프리랜서]</td>\n",
       "      <td>34075.0</td>\n",
       "      <td>1.542208e+12</td>\n",
       "      <td>기술도 없는 사무직 퇴사자의 프리랜서 도전기</td>\n",
       "      <td>예고 없이 찾아온 프리랜서의 성수기</td>\n",
       "      <td>@merryseo</td>\n",
       "      <td>2018-11-15</td>\n",
       "      <td>2018-11-15</td>\n",
       "      <td>매거진</td>\n",
       "      <td>5%</td>\n",
       "    </tr>\n",
       "    <tr>\n",
       "      <th>299448</th>\n",
       "      <td>@merryseo_73</td>\n",
       "      <td>7971</td>\n",
       "      <td>73.0</td>\n",
       "      <td>https://brunch.co.kr/@merryseo/73</td>\n",
       "      <td>[퇴사, 에세이, 일러스트]</td>\n",
       "      <td>34075.0</td>\n",
       "      <td>1.542812e+12</td>\n",
       "      <td>기술도 없는 사무직 퇴사자의 프리랜서 도전기</td>\n",
       "      <td>행복한가요? 얼마나 벌어요? 불안하진 않나요?</td>\n",
       "      <td>@merryseo</td>\n",
       "      <td>2018-11-22</td>\n",
       "      <td>2018-11-22</td>\n",
       "      <td>매거진</td>\n",
       "      <td>5%</td>\n",
       "    </tr>\n",
       "  </tbody>\n",
       "</table>\n",
       "</div>"
      ],
      "text/plain": [
       "          article_id  read_cnt    id                        display_url  \\\n",
       "299425  @merryseo_51      3946  51.0  https://brunch.co.kr/@merryseo/51   \n",
       "299426  @merryseo_52      4906  52.0  https://brunch.co.kr/@merryseo/52   \n",
       "299427  @merryseo_53      7620  53.0  https://brunch.co.kr/@merryseo/53   \n",
       "299428  @merryseo_54      3134  54.0  https://brunch.co.kr/@merryseo/54   \n",
       "299429  @merryseo_55      3112  55.0  https://brunch.co.kr/@merryseo/55   \n",
       "299430  @merryseo_56      2942  56.0  https://brunch.co.kr/@merryseo/56   \n",
       "299431  @merryseo_57      2745  57.0  https://brunch.co.kr/@merryseo/57   \n",
       "299432  @merryseo_58      2522  58.0  https://brunch.co.kr/@merryseo/58   \n",
       "299433  @merryseo_59      2687  59.0  https://brunch.co.kr/@merryseo/59   \n",
       "299435  @merryseo_61      3356  61.0  https://brunch.co.kr/@merryseo/61   \n",
       "299436  @merryseo_62      4950  62.0  https://brunch.co.kr/@merryseo/62   \n",
       "299437  @merryseo_63      5652  63.0  https://brunch.co.kr/@merryseo/63   \n",
       "299438  @merryseo_64      5701  64.0  https://brunch.co.kr/@merryseo/64   \n",
       "299439  @merryseo_65      4798  65.0  https://brunch.co.kr/@merryseo/65   \n",
       "299441  @merryseo_67      3585  67.0  https://brunch.co.kr/@merryseo/67   \n",
       "299443  @merryseo_69      4019  69.0  https://brunch.co.kr/@merryseo/69   \n",
       "299446  @merryseo_71      4062  71.0  https://brunch.co.kr/@merryseo/71   \n",
       "299448  @merryseo_73      7971  73.0  https://brunch.co.kr/@merryseo/73   \n",
       "\n",
       "           keyword_list  magazine_id        reg_ts                 sub_title  \\\n",
       "299425  [퇴사, 일러스트, 에세이]      34075.0  1.532531e+12  기술도 없는 사무직 퇴사자의 프리랜서 도전기   \n",
       "299426  [퇴사, 에세이, 일러스트]      34075.0  1.533136e+12  기술도 없는 사무직 퇴사자의 프리랜서 도전기   \n",
       "299427  [퇴사, 에세이, 일러스트]      34075.0  1.533740e+12  기술도 없는 사무직 퇴사자의 프리랜서 도전기   \n",
       "299428  [퇴사, 프리랜서, 에세이]      34075.0  1.534345e+12  기술도 없는 사무직 퇴사자의 프리랜서 도전기   \n",
       "299429  [프리랜서, 퇴사, 에세이]      34075.0  1.534950e+12  기술도 없는 사무직 퇴사자의 프리랜서 도전기   \n",
       "299430  [퇴사, 프리랜서, 에세이]      34075.0  1.535555e+12  기술도 없는 사무직 퇴사자의 프리랜서 도전기   \n",
       "299431  [퇴사, 프리랜서, 에세이]      34075.0  1.536160e+12  기술도 없는 사무직 퇴사자의 프리랜서 도전기   \n",
       "299432  [퇴사, 프리랜서, 에세이]      34075.0  1.536764e+12  기술도 없는 사무직 퇴사자의 프리랜서 도전기   \n",
       "299433  [프리랜서, 퇴사, 에세이]      34075.0  1.537369e+12  기술도 없는 사무직 퇴사자의 프리랜서 도전기   \n",
       "299435  [퇴사, 프리랜서, 일상툰]      34075.0  1.537974e+12  기술도 없는 사무직 퇴사자의 프리랜서 도전기   \n",
       "299436  [퇴사, 프리랜서, 에세이]      34075.0  1.538579e+12  기술도 없는 사무직 퇴사자의 프리랜서 도전기   \n",
       "299437  [퇴사, 프리랜서, 에세이]      34075.0  1.539184e+12  기술도 없는 사무직 퇴사자의 프리랜서 도전기   \n",
       "299438  [퇴사, 프리랜서, 에세이]      34075.0  1.539788e+12  기술도 없는 사무직 퇴사자의 프리랜서 도전기   \n",
       "299439  [퇴사, 프리랜서, 에세이]      34075.0  1.540393e+12  기술도 없는 사무직 퇴사자의 프리랜서 도전기   \n",
       "299441  [퇴사, 일러스트, 에세이]      34075.0  1.540998e+12  기술도 없는 사무직 퇴사자의 프리랜서 도전기   \n",
       "299443  [퇴사, 일러스트, 에세이]      34075.0  1.541603e+12  기술도 없는 사무직 퇴사자의 프리랜서 도전기   \n",
       "299446  [퇴사, 에세이, 프리랜서]      34075.0  1.542208e+12  기술도 없는 사무직 퇴사자의 프리랜서 도전기   \n",
       "299448  [퇴사, 에세이, 일러스트]      34075.0  1.542812e+12  기술도 없는 사무직 퇴사자의 프리랜서 도전기   \n",
       "\n",
       "                            title  author_id reg_datetime      reg_dt type  \\\n",
       "299425                  \"프리랜서입니다\"  @merryseo   2018-07-26  2018-07-26  매거진   \n",
       "299426                   퇴사를 결심하다  @merryseo   2018-08-02  2018-08-02  매거진   \n",
       "299427                 회사 체질이 아니야  @merryseo   2018-08-09  2018-08-09  매거진   \n",
       "299428       프리랜서? 좋지. 근데 기술은 있고?  @merryseo   2018-08-16  2018-08-16  매거진   \n",
       "299429        생각보다 넓고 깊은 프리랜서의 세계  @merryseo   2018-08-23  2018-08-23  매거진   \n",
       "299430          세상에서 가장 소심한 퇴사 준비  @merryseo   2018-08-30  2018-08-30  매거진   \n",
       "299431     한 달 동안의 아주 사치스러운 백수 생활  @merryseo   2018-09-06  2018-09-06  매거진   \n",
       "299432          이렇게 평범한 내가 프리랜서를?  @merryseo   2018-09-13  2018-09-13  매거진   \n",
       "299433          역시 사람은 기술을 배워야 혀~  @merryseo   2018-09-20  2018-09-20  매거진   \n",
       "299435             뭔가 플러스 알파가 필요해  @merryseo   2018-09-27  2018-09-27  매거진   \n",
       "299436         일이 없는 프리랜서도 프리랜서일까  @merryseo   2018-10-04  2018-10-04  매거진   \n",
       "299437            무슨 일이든 일단 하고 보자  @merryseo   2018-10-11  2018-10-11  매거진   \n",
       "299438       스카우트 제의, 기회일까? 시련일까?  @merryseo   2018-10-18  2018-10-18  매거진   \n",
       "299439         생계를 위해 잠시 회사로 돌아가다  @merryseo   2018-10-25  2018-10-25  매거진   \n",
       "299441           두 번째 퇴사, 첫 번째 일감  @merryseo   2018-11-01  2018-11-01  매거진   \n",
       "299443        프리랜서에게도 비빌 언덕이 필요하다  @merryseo   2018-11-08  2018-11-08  매거진   \n",
       "299446        예고 없이 찾아온 프리랜서의 성수기  @merryseo   2018-11-15  2018-11-15  매거진   \n",
       "299448  행복한가요? 얼마나 벌어요? 불안하진 않나요?  @merryseo   2018-11-22  2018-11-22  매거진   \n",
       "\n",
       "       class  \n",
       "299425    5%  \n",
       "299426    5%  \n",
       "299427    5%  \n",
       "299428    5%  \n",
       "299429    5%  \n",
       "299430    5%  \n",
       "299431    5%  \n",
       "299432    5%  \n",
       "299433    5%  \n",
       "299435    5%  \n",
       "299436    5%  \n",
       "299437    5%  \n",
       "299438    5%  \n",
       "299439    5%  \n",
       "299441    5%  \n",
       "299443    5%  \n",
       "299446    5%  \n",
       "299448    5%  "
      ]
     },
     "execution_count": 69,
     "metadata": {},
     "output_type": "execute_result"
    }
   ],
   "source": [
    "# Weekly매거진 회사 체질이 아니라서요 (by 서메리) 글 목록\n",
    "magazine_34075"
   ]
  },
  {
   "cell_type": "code",
   "execution_count": 70,
   "metadata": {},
   "outputs": [],
   "source": [
    "magazine_34075_read = off_data_agg[off_data_agg.magazine_id == 34075]"
   ]
  },
  {
   "cell_type": "code",
   "execution_count": 71,
   "metadata": {},
   "outputs": [
    {
     "data": {
      "text/html": [
       "<div>\n",
       "<style scoped>\n",
       "    .dataframe tbody tr th:only-of-type {\n",
       "        vertical-align: middle;\n",
       "    }\n",
       "\n",
       "    .dataframe tbody tr th {\n",
       "        vertical-align: top;\n",
       "    }\n",
       "\n",
       "    .dataframe thead th {\n",
       "        text-align: right;\n",
       "    }\n",
       "</style>\n",
       "<table border=\"1\" class=\"dataframe\">\n",
       "  <thead>\n",
       "    <tr style=\"text-align: right;\">\n",
       "      <th></th>\n",
       "      <th>article_id</th>\n",
       "      <th>off_day</th>\n",
       "      <th>read_dt</th>\n",
       "      <th>reg_dt</th>\n",
       "      <th>title</th>\n",
       "      <th>author_id</th>\n",
       "      <th>type</th>\n",
       "      <th>display_url</th>\n",
       "      <th>magazine_id</th>\n",
       "      <th>class</th>\n",
       "      <th>user_id</th>\n",
       "    </tr>\n",
       "  </thead>\n",
       "  <tbody>\n",
       "    <tr>\n",
       "      <th>2630367</th>\n",
       "      <td>@merryseo_51</td>\n",
       "      <td>67</td>\n",
       "      <td>2018-10-01</td>\n",
       "      <td>2018-07-26</td>\n",
       "      <td>\"프리랜서입니다\"</td>\n",
       "      <td>@merryseo</td>\n",
       "      <td>매거진</td>\n",
       "      <td>https://brunch.co.kr/@merryseo/51</td>\n",
       "      <td>34075</td>\n",
       "      <td>5%</td>\n",
       "      <td>16</td>\n",
       "    </tr>\n",
       "    <tr>\n",
       "      <th>2630368</th>\n",
       "      <td>@merryseo_51</td>\n",
       "      <td>68</td>\n",
       "      <td>2018-10-02</td>\n",
       "      <td>2018-07-26</td>\n",
       "      <td>\"프리랜서입니다\"</td>\n",
       "      <td>@merryseo</td>\n",
       "      <td>매거진</td>\n",
       "      <td>https://brunch.co.kr/@merryseo/51</td>\n",
       "      <td>34075</td>\n",
       "      <td>5%</td>\n",
       "      <td>25</td>\n",
       "    </tr>\n",
       "    <tr>\n",
       "      <th>2630369</th>\n",
       "      <td>@merryseo_51</td>\n",
       "      <td>69</td>\n",
       "      <td>2018-10-03</td>\n",
       "      <td>2018-07-26</td>\n",
       "      <td>\"프리랜서입니다\"</td>\n",
       "      <td>@merryseo</td>\n",
       "      <td>매거진</td>\n",
       "      <td>https://brunch.co.kr/@merryseo/51</td>\n",
       "      <td>34075</td>\n",
       "      <td>5%</td>\n",
       "      <td>16</td>\n",
       "    </tr>\n",
       "    <tr>\n",
       "      <th>2630370</th>\n",
       "      <td>@merryseo_51</td>\n",
       "      <td>70</td>\n",
       "      <td>2018-10-04</td>\n",
       "      <td>2018-07-26</td>\n",
       "      <td>\"프리랜서입니다\"</td>\n",
       "      <td>@merryseo</td>\n",
       "      <td>매거진</td>\n",
       "      <td>https://brunch.co.kr/@merryseo/51</td>\n",
       "      <td>34075</td>\n",
       "      <td>5%</td>\n",
       "      <td>308</td>\n",
       "    </tr>\n",
       "    <tr>\n",
       "      <th>2630371</th>\n",
       "      <td>@merryseo_51</td>\n",
       "      <td>71</td>\n",
       "      <td>2018-10-05</td>\n",
       "      <td>2018-07-26</td>\n",
       "      <td>\"프리랜서입니다\"</td>\n",
       "      <td>@merryseo</td>\n",
       "      <td>매거진</td>\n",
       "      <td>https://brunch.co.kr/@merryseo/51</td>\n",
       "      <td>34075</td>\n",
       "      <td>5%</td>\n",
       "      <td>16</td>\n",
       "    </tr>\n",
       "  </tbody>\n",
       "</table>\n",
       "</div>"
      ],
      "text/plain": [
       "           article_id  off_day    read_dt     reg_dt      title  author_id  \\\n",
       "2630367  @merryseo_51       67 2018-10-01 2018-07-26  \"프리랜서입니다\"  @merryseo   \n",
       "2630368  @merryseo_51       68 2018-10-02 2018-07-26  \"프리랜서입니다\"  @merryseo   \n",
       "2630369  @merryseo_51       69 2018-10-03 2018-07-26  \"프리랜서입니다\"  @merryseo   \n",
       "2630370  @merryseo_51       70 2018-10-04 2018-07-26  \"프리랜서입니다\"  @merryseo   \n",
       "2630371  @merryseo_51       71 2018-10-05 2018-07-26  \"프리랜서입니다\"  @merryseo   \n",
       "\n",
       "        type                        display_url  magazine_id class  user_id  \n",
       "2630367  매거진  https://brunch.co.kr/@merryseo/51        34075    5%       16  \n",
       "2630368  매거진  https://brunch.co.kr/@merryseo/51        34075    5%       25  \n",
       "2630369  매거진  https://brunch.co.kr/@merryseo/51        34075    5%       16  \n",
       "2630370  매거진  https://brunch.co.kr/@merryseo/51        34075    5%      308  \n",
       "2630371  매거진  https://brunch.co.kr/@merryseo/51        34075    5%       16  "
      ]
     },
     "execution_count": 71,
     "metadata": {},
     "output_type": "execute_result"
    }
   ],
   "source": [
    "magazine_34075_read.head()"
   ]
  },
  {
   "cell_type": "code",
   "execution_count": 72,
   "metadata": {},
   "outputs": [
    {
     "data": {
      "text/plain": [
       "Text(0,0.5,'글 소비수')"
      ]
     },
     "execution_count": 72,
     "metadata": {},
     "output_type": "execute_result"
    },
    {
     "data": {
      "image/png": "[encoded data removed]",
      "text/plain": [
       "<Figure size 1440x720 with 1 Axes>"
      ]
     },
     "metadata": {
      "needs_background": "light"
     },
     "output_type": "display_data"
    }
   ],
   "source": [
    "sns.lineplot(data=magazine_34075_read, x='read_dt', y='user_id', hue='title')\n",
    "plt.title('위클리-회사 체질이 아니라서요(by 서메리)')\n",
    "plt.xlabel('글 소비일')\n",
    "plt.ylabel('글 소비수')"
   ]
  },
  {
   "cell_type": "code",
   "execution_count": null,
   "metadata": {},
   "outputs": [],
   "source": []
  },
  {
   "cell_type": "code",
   "execution_count": null,
   "metadata": {},
   "outputs": [],
   "source": []
  },
  {
   "cell_type": "markdown",
   "metadata": {},
   "source": [
    "## 5. 유저"
   ]
  },
  {
   "cell_type": "code",
   "execution_count": 73,
   "metadata": {},
   "outputs": [],
   "source": [
    "# 유져별 방문일수, 글 소비수\n",
    "grp_by_user = off_data.groupby('user_id').agg({'read_dt':['nunique', 'count']})"
   ]
  },
  {
   "cell_type": "code",
   "execution_count": 74,
   "metadata": {},
   "outputs": [],
   "source": [
    "grp_by_user = grp_by_user.reset_index()\n",
    "grp_by_user.columns = ['user_id', 'visit_day_cnt', 'read_cnt']"
   ]
  },
  {
   "cell_type": "code",
   "execution_count": 75,
   "metadata": {},
   "outputs": [
    {
     "data": {
      "text/html": [
       "<div>\n",
       "<style scoped>\n",
       "    .dataframe tbody tr th:only-of-type {\n",
       "        vertical-align: middle;\n",
       "    }\n",
       "\n",
       "    .dataframe tbody tr th {\n",
       "        vertical-align: top;\n",
       "    }\n",
       "\n",
       "    .dataframe thead th {\n",
       "        text-align: right;\n",
       "    }\n",
       "</style>\n",
       "<table border=\"1\" class=\"dataframe\">\n",
       "  <thead>\n",
       "    <tr style=\"text-align: right;\">\n",
       "      <th></th>\n",
       "      <th>user_id</th>\n",
       "      <th>visit_day_cnt</th>\n",
       "      <th>read_cnt</th>\n",
       "    </tr>\n",
       "  </thead>\n",
       "  <tbody>\n",
       "    <tr>\n",
       "      <th>0</th>\n",
       "      <td>#00001ba6ca8d87d2fc34d626ba9cfe6f</td>\n",
       "      <td>1</td>\n",
       "      <td>3</td>\n",
       "    </tr>\n",
       "    <tr>\n",
       "      <th>1</th>\n",
       "      <td>#0000e87158c1426d6ffb72cebac6cb64</td>\n",
       "      <td>1</td>\n",
       "      <td>2</td>\n",
       "    </tr>\n",
       "    <tr>\n",
       "      <th>2</th>\n",
       "      <td>#0000eea6d339abfd02ed590bc451fc63</td>\n",
       "      <td>1</td>\n",
       "      <td>1</td>\n",
       "    </tr>\n",
       "    <tr>\n",
       "      <th>3</th>\n",
       "      <td>#0000fdba8f35c76eacab74c5c6bc7f1a</td>\n",
       "      <td>3</td>\n",
       "      <td>11</td>\n",
       "    </tr>\n",
       "    <tr>\n",
       "      <th>4</th>\n",
       "      <td>#000127ad0f1981cae1292efdb228f0e9</td>\n",
       "      <td>1</td>\n",
       "      <td>27</td>\n",
       "    </tr>\n",
       "  </tbody>\n",
       "</table>\n",
       "</div>"
      ],
      "text/plain": [
       "                             user_id  visit_day_cnt  read_cnt\n",
       "0  #00001ba6ca8d87d2fc34d626ba9cfe6f              1         3\n",
       "1  #0000e87158c1426d6ffb72cebac6cb64              1         2\n",
       "2  #0000eea6d339abfd02ed590bc451fc63              1         1\n",
       "3  #0000fdba8f35c76eacab74c5c6bc7f1a              3        11\n",
       "4  #000127ad0f1981cae1292efdb228f0e9              1        27"
      ]
     },
     "execution_count": 75,
     "metadata": {},
     "output_type": "execute_result"
    }
   ],
   "source": [
    "grp_by_user.head()"
   ]
  },
  {
   "cell_type": "markdown",
   "metadata": {},
   "source": [
    "### a. 방문일수 기준 유저 통계"
   ]
  },
  {
   "cell_type": "code",
   "execution_count": 76,
   "metadata": {},
   "outputs": [
    {
     "data": {
      "text/plain": [
       "1    0.352137\n",
       "2    0.142516\n",
       "3    0.088841\n",
       "4    0.063050\n",
       "5    0.047217\n",
       "Name: visit_day_cnt, dtype: float64"
      ]
     },
     "execution_count": 76,
     "metadata": {},
     "output_type": "execute_result"
    }
   ],
   "source": [
    "grp_by_user['visit_day_cnt'].value_counts(normalize=True).head()"
   ]
  },
  {
   "cell_type": "code",
   "execution_count": 77,
   "metadata": {},
   "outputs": [
    {
     "data": {
      "text/plain": [
       "0.009034902176890052"
      ]
     },
     "execution_count": 77,
     "metadata": {},
     "output_type": "execute_result"
    }
   ],
   "source": [
    "grp_by_user['visit_day_cnt'].value_counts(normalize=True).sort_index()[74:].sum()"
   ]
  },
  {
   "cell_type": "markdown",
   "metadata": {},
   "source": [
    "- 1~2회 방문 유저 전체 유저중 50%"
   ]
  },
  {
   "cell_type": "markdown",
   "metadata": {},
   "source": [
    "- 75회 이상 방문하는유저 전체 유저중 약 1%"
   ]
  },
  {
   "cell_type": "markdown",
   "metadata": {},
   "source": [
    "- 1~2일 방문유저를 신규유저 / 75일(Train 기간 절반 방문) 방문 유저를 단골유저로 구분"
   ]
  },
  {
   "cell_type": "code",
   "execution_count": 78,
   "metadata": {},
   "outputs": [],
   "source": [
    "low_visit_user = grp_by_user.loc[grp_by_user['visit_day_cnt'] <=2, 'user_id']"
   ]
  },
  {
   "cell_type": "code",
   "execution_count": 79,
   "metadata": {},
   "outputs": [],
   "source": [
    "upp_visit_user = grp_by_user.loc[grp_by_user['visit_day_cnt'] >=75, 'user_id']"
   ]
  },
  {
   "cell_type": "code",
   "execution_count": 80,
   "metadata": {},
   "outputs": [
    {
     "data": {
      "text/plain": [
       "((149903,), (2738,))"
      ]
     },
     "execution_count": 80,
     "metadata": {},
     "output_type": "execute_result"
    }
   ],
   "source": [
    "low_visit_user.shape, upp_visit_user.shape"
   ]
  },
  {
   "cell_type": "code",
   "execution_count": 81,
   "metadata": {},
   "outputs": [],
   "source": [
    "off_data_l = off_data[off_data.user_id.isin(low_visit_user)]\n",
    "off_data_u = off_data[off_data.user_id.isin(upp_visit_user)]"
   ]
  },
  {
   "cell_type": "code",
   "execution_count": 82,
   "metadata": {},
   "outputs": [
    {
     "data": {
      "text/plain": [
       "((20905040, 14), (1083925, 14), (5002114, 14))"
      ]
     },
     "execution_count": 82,
     "metadata": {},
     "output_type": "execute_result"
    }
   ],
   "source": [
    "off_data.shape, off_data_l.shape, off_data_u.shape"
   ]
  },
  {
   "cell_type": "code",
   "execution_count": 83,
   "metadata": {},
   "outputs": [
    {
     "data": {
      "text/plain": [
       "(0.051849936665990595, 0.23927789662205862)"
      ]
     },
     "execution_count": 83,
     "metadata": {},
     "output_type": "execute_result"
    }
   ],
   "source": [
    "1083925/20905040, 5002114/20905040"
   ]
  },
  {
   "cell_type": "markdown",
   "metadata": {},
   "source": [
    "- 신규 유저의 글 소비는 전체의 5%, 단골 유저의 글 소비는 전체의 24%"
   ]
  },
  {
   "cell_type": "code",
   "execution_count": 84,
   "metadata": {},
   "outputs": [
    {
     "data": {
      "text/plain": [
       "(7.230842611555473, 13.573547204837958)"
      ]
     },
     "execution_count": 84,
     "metadata": {},
     "output_type": "execute_result"
    }
   ],
   "source": [
    "off_data_l.groupby('user_id')['article_id'].count().mean(), off_data_l.groupby('user_id')['article_id'].count().std(), "
   ]
  },
  {
   "cell_type": "code",
   "execution_count": 85,
   "metadata": {},
   "outputs": [
    {
     "data": {
      "text/plain": [
       "(1826.9225712198686, 2758.1071094196964)"
      ]
     },
     "execution_count": 85,
     "metadata": {},
     "output_type": "execute_result"
    }
   ],
   "source": [
    "off_data_u.groupby('user_id')['article_id'].count().mean(), off_data_u.groupby('user_id')['article_id'].count().std()"
   ]
  },
  {
   "cell_type": "markdown",
   "metadata": {},
   "source": [
    "- 신규 유저의 평균 글 소비수는 7, 표준편차 14\n",
    "- 단골 유저의 평균 글 소비수는 1827, 표준편차 2758"
   ]
  },
  {
   "cell_type": "markdown",
   "metadata": {},
   "source": [
    "### b. 신규/단골 그룹내 인기 글"
   ]
  },
  {
   "cell_type": "code",
   "execution_count": 86,
   "metadata": {},
   "outputs": [],
   "source": [
    "off_data_l_rk = off_data_l.groupby(['article_id', 'title', 'reg_dt'])['user_id'].count().sort_values(ascending=False)\n",
    "off_data_l_rk = off_data_l_rk.reset_index()\n",
    "off_data_l_rk['rk'] = off_data_l_rk.index + 1"
   ]
  },
  {
   "cell_type": "code",
   "execution_count": 87,
   "metadata": {},
   "outputs": [],
   "source": [
    "off_data_u_rk = off_data_u.groupby(['article_id', 'title', 'reg_dt'])['user_id'].count().sort_values(ascending=False)\n",
    "off_data_u_rk = off_data_u_rk.reset_index()\n",
    "off_data_u_rk['rk'] = off_data_u_rk.index + 1"
   ]
  },
  {
   "cell_type": "code",
   "execution_count": 88,
   "metadata": {},
   "outputs": [
    {
     "data": {
      "text/html": [
       "<div>\n",
       "<style scoped>\n",
       "    .dataframe tbody tr th:only-of-type {\n",
       "        vertical-align: middle;\n",
       "    }\n",
       "\n",
       "    .dataframe tbody tr th {\n",
       "        vertical-align: top;\n",
       "    }\n",
       "\n",
       "    .dataframe thead th {\n",
       "        text-align: right;\n",
       "    }\n",
       "</style>\n",
       "<table border=\"1\" class=\"dataframe\">\n",
       "  <thead>\n",
       "    <tr style=\"text-align: right;\">\n",
       "      <th></th>\n",
       "      <th>article_id</th>\n",
       "      <th>title</th>\n",
       "      <th>reg_dt</th>\n",
       "      <th>user_id</th>\n",
       "      <th>rk</th>\n",
       "    </tr>\n",
       "  </thead>\n",
       "  <tbody>\n",
       "    <tr>\n",
       "      <th>0</th>\n",
       "      <td>@brunch_141</td>\n",
       "      <td>브런치 작가가 함께 빨강머리 앤을 그리고 쓰다.</td>\n",
       "      <td>2018-10-17</td>\n",
       "      <td>13519</td>\n",
       "      <td>1</td>\n",
       "    </tr>\n",
       "    <tr>\n",
       "      <th>1</th>\n",
       "      <td>@brunch_151</td>\n",
       "      <td>브런치 무비 패스, 영화의 진한 여운을 나누세요</td>\n",
       "      <td>2019-02-18</td>\n",
       "      <td>8160</td>\n",
       "      <td>2</td>\n",
       "    </tr>\n",
       "    <tr>\n",
       "      <th>2</th>\n",
       "      <td>@brunch_1</td>\n",
       "      <td>글이 작품이 되는 공간, 브런치</td>\n",
       "      <td>2015-06-12</td>\n",
       "      <td>5282</td>\n",
       "      <td>3</td>\n",
       "    </tr>\n",
       "    <tr>\n",
       "      <th>3</th>\n",
       "      <td>@brunch_140</td>\n",
       "      <td>카카오 크리에이터스 스튜디오에서 브런치 작가를 만나다.</td>\n",
       "      <td>2018-10-04</td>\n",
       "      <td>4343</td>\n",
       "      <td>4</td>\n",
       "    </tr>\n",
       "    <tr>\n",
       "      <th>4</th>\n",
       "      <td>@brunch_2</td>\n",
       "      <td>브런치 작가 신청 안내</td>\n",
       "      <td>2015-06-18</td>\n",
       "      <td>4068</td>\n",
       "      <td>5</td>\n",
       "    </tr>\n",
       "    <tr>\n",
       "      <th>5</th>\n",
       "      <td>@brunch_145</td>\n",
       "      <td>10인의 에디터와 함께 하는, 브런치북 프로젝트 #6</td>\n",
       "      <td>2018-12-12</td>\n",
       "      <td>2897</td>\n",
       "      <td>6</td>\n",
       "    </tr>\n",
       "    <tr>\n",
       "      <th>6</th>\n",
       "      <td>@brunch_133</td>\n",
       "      <td>또 다른 기회의 시작, 브런치와 함께하세요</td>\n",
       "      <td>2018-07-09</td>\n",
       "      <td>2640</td>\n",
       "      <td>7</td>\n",
       "    </tr>\n",
       "    <tr>\n",
       "      <th>7</th>\n",
       "      <td>@kakaomobility_20</td>\n",
       "      <td>음성으로 편리하게</td>\n",
       "      <td>2018-10-17</td>\n",
       "      <td>2458</td>\n",
       "      <td>8</td>\n",
       "    </tr>\n",
       "    <tr>\n",
       "      <th>8</th>\n",
       "      <td>@intlovesong_28</td>\n",
       "      <td>아끼면 똥 되는 것 4가지</td>\n",
       "      <td>2016-11-04</td>\n",
       "      <td>2226</td>\n",
       "      <td>9</td>\n",
       "    </tr>\n",
       "    <tr>\n",
       "      <th>9</th>\n",
       "      <td>@brunch_142</td>\n",
       "      <td>[예고] 브런치북 프로젝트 #6</td>\n",
       "      <td>2018-11-01</td>\n",
       "      <td>2221</td>\n",
       "      <td>10</td>\n",
       "    </tr>\n",
       "  </tbody>\n",
       "</table>\n",
       "</div>"
      ],
      "text/plain": [
       "          article_id                           title     reg_dt  user_id  rk\n",
       "0        @brunch_141      브런치 작가가 함께 빨강머리 앤을 그리고 쓰다. 2018-10-17    13519   1\n",
       "1        @brunch_151      브런치 무비 패스, 영화의 진한 여운을 나누세요 2019-02-18     8160   2\n",
       "2          @brunch_1               글이 작품이 되는 공간, 브런치 2015-06-12     5282   3\n",
       "3        @brunch_140  카카오 크리에이터스 스튜디오에서 브런치 작가를 만나다. 2018-10-04     4343   4\n",
       "4          @brunch_2                    브런치 작가 신청 안내 2015-06-18     4068   5\n",
       "5        @brunch_145   10인의 에디터와 함께 하는, 브런치북 프로젝트 #6 2018-12-12     2897   6\n",
       "6        @brunch_133         또 다른 기회의 시작, 브런치와 함께하세요 2018-07-09     2640   7\n",
       "7  @kakaomobility_20                       음성으로 편리하게 2018-10-17     2458   8\n",
       "8    @intlovesong_28                  아끼면 똥 되는 것 4가지 2016-11-04     2226   9\n",
       "9        @brunch_142               [예고] 브런치북 프로젝트 #6 2018-11-01     2221  10"
      ]
     },
     "execution_count": 88,
     "metadata": {},
     "output_type": "execute_result"
    }
   ],
   "source": [
    "# 신규 독자 소비수 상위 상위 10개 글\n",
    "off_data_l_rk.head(10)"
   ]
  },
  {
   "cell_type": "code",
   "execution_count": 89,
   "metadata": {},
   "outputs": [
    {
     "data": {
      "text/html": [
       "<div>\n",
       "<style scoped>\n",
       "    .dataframe tbody tr th:only-of-type {\n",
       "        vertical-align: middle;\n",
       "    }\n",
       "\n",
       "    .dataframe tbody tr th {\n",
       "        vertical-align: top;\n",
       "    }\n",
       "\n",
       "    .dataframe thead th {\n",
       "        text-align: right;\n",
       "    }\n",
       "</style>\n",
       "<table border=\"1\" class=\"dataframe\">\n",
       "  <thead>\n",
       "    <tr style=\"text-align: right;\">\n",
       "      <th></th>\n",
       "      <th>article_id</th>\n",
       "      <th>title</th>\n",
       "      <th>reg_dt</th>\n",
       "      <th>user_id</th>\n",
       "      <th>rk</th>\n",
       "    </tr>\n",
       "  </thead>\n",
       "  <tbody>\n",
       "    <tr>\n",
       "      <th>0</th>\n",
       "      <td>@brunch_141</td>\n",
       "      <td>브런치 작가가 함께 빨강머리 앤을 그리고 쓰다.</td>\n",
       "      <td>2018-10-17</td>\n",
       "      <td>11636</td>\n",
       "      <td>1</td>\n",
       "    </tr>\n",
       "    <tr>\n",
       "      <th>1</th>\n",
       "      <td>@brunch_151</td>\n",
       "      <td>브런치 무비 패스, 영화의 진한 여운을 나누세요</td>\n",
       "      <td>2019-02-18</td>\n",
       "      <td>6010</td>\n",
       "      <td>2</td>\n",
       "    </tr>\n",
       "    <tr>\n",
       "      <th>2</th>\n",
       "      <td>@brunch_145</td>\n",
       "      <td>10인의 에디터와 함께 하는, 브런치북 프로젝트 #6</td>\n",
       "      <td>2018-12-12</td>\n",
       "      <td>4379</td>\n",
       "      <td>3</td>\n",
       "    </tr>\n",
       "    <tr>\n",
       "      <th>3</th>\n",
       "      <td>@tenbody_1305</td>\n",
       "      <td>러닝머신보다 효과 좋은 체지방 빼는 맨몸 운동 5가지</td>\n",
       "      <td>2018-08-10</td>\n",
       "      <td>3674</td>\n",
       "      <td>4</td>\n",
       "    </tr>\n",
       "    <tr>\n",
       "      <th>4</th>\n",
       "      <td>@hyehyodam_19</td>\n",
       "      <td>나쁜년이 잘 사는 이유...</td>\n",
       "      <td>2018-01-26</td>\n",
       "      <td>2920</td>\n",
       "      <td>5</td>\n",
       "    </tr>\n",
       "    <tr>\n",
       "      <th>5</th>\n",
       "      <td>@sangheeshyn_66</td>\n",
       "      <td>살찌지 않는 여자들</td>\n",
       "      <td>2018-11-13</td>\n",
       "      <td>2866</td>\n",
       "      <td>6</td>\n",
       "    </tr>\n",
       "    <tr>\n",
       "      <th>6</th>\n",
       "      <td>@brunch_142</td>\n",
       "      <td>[예고] 브런치북 프로젝트 #6</td>\n",
       "      <td>2018-11-01</td>\n",
       "      <td>2753</td>\n",
       "      <td>7</td>\n",
       "    </tr>\n",
       "    <tr>\n",
       "      <th>7</th>\n",
       "      <td>@intlovesong_28</td>\n",
       "      <td>아끼면 똥 되는 것 4가지</td>\n",
       "      <td>2016-11-04</td>\n",
       "      <td>2606</td>\n",
       "      <td>8</td>\n",
       "    </tr>\n",
       "    <tr>\n",
       "      <th>8</th>\n",
       "      <td>@x-xv_19</td>\n",
       "      <td>승무원, 들어오려는 자, 나가려는 자</td>\n",
       "      <td>2018-08-05</td>\n",
       "      <td>2603</td>\n",
       "      <td>9</td>\n",
       "    </tr>\n",
       "    <tr>\n",
       "      <th>9</th>\n",
       "      <td>@steven_179</td>\n",
       "      <td>친구 없는 사람의 3가지 특징</td>\n",
       "      <td>2017-09-15</td>\n",
       "      <td>2597</td>\n",
       "      <td>10</td>\n",
       "    </tr>\n",
       "  </tbody>\n",
       "</table>\n",
       "</div>"
      ],
      "text/plain": [
       "        article_id                          title     reg_dt  user_id  rk\n",
       "0      @brunch_141     브런치 작가가 함께 빨강머리 앤을 그리고 쓰다. 2018-10-17    11636   1\n",
       "1      @brunch_151     브런치 무비 패스, 영화의 진한 여운을 나누세요 2019-02-18     6010   2\n",
       "2      @brunch_145  10인의 에디터와 함께 하는, 브런치북 프로젝트 #6 2018-12-12     4379   3\n",
       "3    @tenbody_1305  러닝머신보다 효과 좋은 체지방 빼는 맨몸 운동 5가지 2018-08-10     3674   4\n",
       "4    @hyehyodam_19                나쁜년이 잘 사는 이유... 2018-01-26     2920   5\n",
       "5  @sangheeshyn_66                     살찌지 않는 여자들 2018-11-13     2866   6\n",
       "6      @brunch_142              [예고] 브런치북 프로젝트 #6 2018-11-01     2753   7\n",
       "7  @intlovesong_28                 아끼면 똥 되는 것 4가지 2016-11-04     2606   8\n",
       "8         @x-xv_19           승무원, 들어오려는 자, 나가려는 자 2018-08-05     2603   9\n",
       "9      @steven_179               친구 없는 사람의 3가지 특징 2017-09-15     2597  10"
      ]
     },
     "execution_count": 89,
     "metadata": {},
     "output_type": "execute_result"
    }
   ],
   "source": [
    "# 단골 독자 소비수 상위 상위 10개 글\n",
    "off_data_u_rk.head(10)"
   ]
  },
  {
   "cell_type": "code",
   "execution_count": 90,
   "metadata": {},
   "outputs": [],
   "source": [
    "off_data_lu_rk = pd.merge(off_data_l_rk, off_data_u_rk, how='outer', left_on = 'article_id', right_on='article_id')"
   ]
  },
  {
   "cell_type": "code",
   "execution_count": 91,
   "metadata": {},
   "outputs": [],
   "source": [
    "off_data_lu_rk['diff_rk'] = off_data_lu_rk['rk_x'] - off_data_lu_rk['rk_y'] "
   ]
  },
  {
   "cell_type": "code",
   "execution_count": 92,
   "metadata": {},
   "outputs": [
    {
     "data": {
      "text/html": [
       "<div>\n",
       "<style scoped>\n",
       "    .dataframe tbody tr th:only-of-type {\n",
       "        vertical-align: middle;\n",
       "    }\n",
       "\n",
       "    .dataframe tbody tr th {\n",
       "        vertical-align: top;\n",
       "    }\n",
       "\n",
       "    .dataframe thead th {\n",
       "        text-align: right;\n",
       "    }\n",
       "</style>\n",
       "<table border=\"1\" class=\"dataframe\">\n",
       "  <thead>\n",
       "    <tr style=\"text-align: right;\">\n",
       "      <th></th>\n",
       "      <th>article_id</th>\n",
       "      <th>title_x</th>\n",
       "      <th>reg_dt_x</th>\n",
       "      <th>user_id_x</th>\n",
       "      <th>rk_x</th>\n",
       "      <th>title_y</th>\n",
       "      <th>reg_dt_y</th>\n",
       "      <th>user_id_y</th>\n",
       "      <th>rk_y</th>\n",
       "      <th>diff_rk</th>\n",
       "    </tr>\n",
       "  </thead>\n",
       "  <tbody>\n",
       "    <tr>\n",
       "      <th>7</th>\n",
       "      <td>@kakaomobility_20</td>\n",
       "      <td>음성으로 편리하게</td>\n",
       "      <td>2018-10-17</td>\n",
       "      <td>2458.0</td>\n",
       "      <td>8.0</td>\n",
       "      <td>음성으로 편리하게</td>\n",
       "      <td>2018-10-17</td>\n",
       "      <td>14.0</td>\n",
       "      <td>64179.0</td>\n",
       "      <td>-64171.0</td>\n",
       "    </tr>\n",
       "    <tr>\n",
       "      <th>4</th>\n",
       "      <td>@brunch_2</td>\n",
       "      <td>브런치 작가 신청 안내</td>\n",
       "      <td>2015-06-18</td>\n",
       "      <td>4068.0</td>\n",
       "      <td>5.0</td>\n",
       "      <td>브런치 작가 신청 안내</td>\n",
       "      <td>2015-06-18</td>\n",
       "      <td>232.0</td>\n",
       "      <td>3216.0</td>\n",
       "      <td>-3211.0</td>\n",
       "    </tr>\n",
       "    <tr>\n",
       "      <th>33</th>\n",
       "      <td>@brunch_139</td>\n",
       "      <td>작가님에게 새로운 제안이 도착했습니다</td>\n",
       "      <td>2018-08-08</td>\n",
       "      <td>1047.0</td>\n",
       "      <td>34.0</td>\n",
       "      <td>작가님에게 새로운 제안이 도착했습니다</td>\n",
       "      <td>2018-08-08</td>\n",
       "      <td>474.0</td>\n",
       "      <td>750.0</td>\n",
       "      <td>-716.0</td>\n",
       "    </tr>\n",
       "    <tr>\n",
       "      <th>18</th>\n",
       "      <td>@brunch_152</td>\n",
       "      <td>작가 인터뷰 - 임희정 아나운서의 고백</td>\n",
       "      <td>2019-02-27</td>\n",
       "      <td>1611.0</td>\n",
       "      <td>19.0</td>\n",
       "      <td>작가 인터뷰 - 임희정 아나운서의 고백</td>\n",
       "      <td>2019-02-27</td>\n",
       "      <td>480.0</td>\n",
       "      <td>730.0</td>\n",
       "      <td>-711.0</td>\n",
       "    </tr>\n",
       "    <tr>\n",
       "      <th>2</th>\n",
       "      <td>@brunch_1</td>\n",
       "      <td>글이 작품이 되는 공간, 브런치</td>\n",
       "      <td>2015-06-12</td>\n",
       "      <td>5282.0</td>\n",
       "      <td>3.0</td>\n",
       "      <td>글이 작품이 되는 공간, 브런치</td>\n",
       "      <td>2015-06-12</td>\n",
       "      <td>528.0</td>\n",
       "      <td>569.0</td>\n",
       "      <td>-566.0</td>\n",
       "    </tr>\n",
       "    <tr>\n",
       "      <th>26</th>\n",
       "      <td>@brunch_111</td>\n",
       "      <td>브런치 책방에  작가님의 책을 입고해주세요</td>\n",
       "      <td>2017-09-28</td>\n",
       "      <td>1326.0</td>\n",
       "      <td>27.0</td>\n",
       "      <td>브런치 책방에  작가님의 책을 입고해주세요</td>\n",
       "      <td>2017-09-28</td>\n",
       "      <td>702.0</td>\n",
       "      <td>315.0</td>\n",
       "      <td>-288.0</td>\n",
       "    </tr>\n",
       "    <tr>\n",
       "      <th>35</th>\n",
       "      <td>@jmg5308_163</td>\n",
       "      <td>이효리를 통해 바라본 자존감 높은 사람의 특징</td>\n",
       "      <td>2017-08-04</td>\n",
       "      <td>995.0</td>\n",
       "      <td>36.0</td>\n",
       "      <td>이효리를 통해 바라본 자존감 높은 사람의 특징</td>\n",
       "      <td>2017-08-04</td>\n",
       "      <td>795.0</td>\n",
       "      <td>233.0</td>\n",
       "      <td>-197.0</td>\n",
       "    </tr>\n",
       "    <tr>\n",
       "      <th>38</th>\n",
       "      <td>@dong02_1372</td>\n",
       "      <td>자존감을 높이는 언어습관 3가지 방법</td>\n",
       "      <td>2017-10-11</td>\n",
       "      <td>876.0</td>\n",
       "      <td>39.0</td>\n",
       "      <td>자존감을 높이는 언어습관 3가지 방법</td>\n",
       "      <td>2017-10-11</td>\n",
       "      <td>880.0</td>\n",
       "      <td>185.0</td>\n",
       "      <td>-146.0</td>\n",
       "    </tr>\n",
       "    <tr>\n",
       "      <th>31</th>\n",
       "      <td>@nplusu_49</td>\n",
       "      <td>벨기에의 3가지 보물</td>\n",
       "      <td>2016-11-10</td>\n",
       "      <td>1170.0</td>\n",
       "      <td>32.0</td>\n",
       "      <td>벨기에의 3가지 보물</td>\n",
       "      <td>2016-11-10</td>\n",
       "      <td>900.0</td>\n",
       "      <td>175.0</td>\n",
       "      <td>-143.0</td>\n",
       "    </tr>\n",
       "    <tr>\n",
       "      <th>45</th>\n",
       "      <td>@needleworm_1</td>\n",
       "      <td>크롤러를 이용해 우체국 등기우편을 자동으로 정리해 보자</td>\n",
       "      <td>2018-11-01</td>\n",
       "      <td>796.0</td>\n",
       "      <td>46.0</td>\n",
       "      <td>크롤러를 이용해 우체국 등기우편을 자동으로 정리해 보자</td>\n",
       "      <td>2018-11-01</td>\n",
       "      <td>905.0</td>\n",
       "      <td>173.0</td>\n",
       "      <td>-127.0</td>\n",
       "    </tr>\n",
       "  </tbody>\n",
       "</table>\n",
       "</div>"
      ],
      "text/plain": [
       "           article_id                         title_x   reg_dt_x  user_id_x  \\\n",
       "7   @kakaomobility_20                       음성으로 편리하게 2018-10-17     2458.0   \n",
       "4           @brunch_2                    브런치 작가 신청 안내 2015-06-18     4068.0   \n",
       "33        @brunch_139            작가님에게 새로운 제안이 도착했습니다 2018-08-08     1047.0   \n",
       "18        @brunch_152           작가 인터뷰 - 임희정 아나운서의 고백 2019-02-27     1611.0   \n",
       "2           @brunch_1               글이 작품이 되는 공간, 브런치 2015-06-12     5282.0   \n",
       "26        @brunch_111         브런치 책방에  작가님의 책을 입고해주세요 2017-09-28     1326.0   \n",
       "35       @jmg5308_163       이효리를 통해 바라본 자존감 높은 사람의 특징 2017-08-04      995.0   \n",
       "38       @dong02_1372            자존감을 높이는 언어습관 3가지 방법 2017-10-11      876.0   \n",
       "31         @nplusu_49                     벨기에의 3가지 보물 2016-11-10     1170.0   \n",
       "45      @needleworm_1  크롤러를 이용해 우체국 등기우편을 자동으로 정리해 보자 2018-11-01      796.0   \n",
       "\n",
       "    rk_x                         title_y   reg_dt_y  user_id_y     rk_y  \\\n",
       "7    8.0                       음성으로 편리하게 2018-10-17       14.0  64179.0   \n",
       "4    5.0                    브런치 작가 신청 안내 2015-06-18      232.0   3216.0   \n",
       "33  34.0            작가님에게 새로운 제안이 도착했습니다 2018-08-08      474.0    750.0   \n",
       "18  19.0           작가 인터뷰 - 임희정 아나운서의 고백 2019-02-27      480.0    730.0   \n",
       "2    3.0               글이 작품이 되는 공간, 브런치 2015-06-12      528.0    569.0   \n",
       "26  27.0         브런치 책방에  작가님의 책을 입고해주세요 2017-09-28      702.0    315.0   \n",
       "35  36.0       이효리를 통해 바라본 자존감 높은 사람의 특징 2017-08-04      795.0    233.0   \n",
       "38  39.0            자존감을 높이는 언어습관 3가지 방법 2017-10-11      880.0    185.0   \n",
       "31  32.0                     벨기에의 3가지 보물 2016-11-10      900.0    175.0   \n",
       "45  46.0  크롤러를 이용해 우체국 등기우편을 자동으로 정리해 보자 2018-11-01      905.0    173.0   \n",
       "\n",
       "    diff_rk  \n",
       "7  -64171.0  \n",
       "4   -3211.0  \n",
       "33   -716.0  \n",
       "18   -711.0  \n",
       "2    -566.0  \n",
       "26   -288.0  \n",
       "35   -197.0  \n",
       "38   -146.0  \n",
       "31   -143.0  \n",
       "45   -127.0  "
      ]
     },
     "execution_count": 92,
     "metadata": {},
     "output_type": "execute_result"
    }
   ],
   "source": [
    "# 신규 독자 소비수 상위 50개 글 중 단골 독자의 순위 차가 많이 나는 글\n",
    "off_data_lu_rk[off_data_lu_rk.rk_x <= 50].sort_values(by='diff_rk', ascending=True).head(10)"
   ]
  },
  {
   "cell_type": "code",
   "execution_count": 93,
   "metadata": {},
   "outputs": [
    {
     "data": {
      "text/html": [
       "<div>\n",
       "<style scoped>\n",
       "    .dataframe tbody tr th:only-of-type {\n",
       "        vertical-align: middle;\n",
       "    }\n",
       "\n",
       "    .dataframe tbody tr th {\n",
       "        vertical-align: top;\n",
       "    }\n",
       "\n",
       "    .dataframe thead th {\n",
       "        text-align: right;\n",
       "    }\n",
       "</style>\n",
       "<table border=\"1\" class=\"dataframe\">\n",
       "  <thead>\n",
       "    <tr style=\"text-align: right;\">\n",
       "      <th></th>\n",
       "      <th>article_id</th>\n",
       "      <th>title_x</th>\n",
       "      <th>reg_dt_x</th>\n",
       "      <th>user_id_x</th>\n",
       "      <th>rk_x</th>\n",
       "      <th>title_y</th>\n",
       "      <th>reg_dt_y</th>\n",
       "      <th>user_id_y</th>\n",
       "      <th>rk_y</th>\n",
       "      <th>diff_rk</th>\n",
       "    </tr>\n",
       "  </thead>\n",
       "  <tbody>\n",
       "    <tr>\n",
       "      <th>753</th>\n",
       "      <td>@doyeonsunim_240</td>\n",
       "      <td>자기 관리의 시작</td>\n",
       "      <td>2018-08-06</td>\n",
       "      <td>117.0</td>\n",
       "      <td>754.0</td>\n",
       "      <td>자기 관리의 시작</td>\n",
       "      <td>2018-08-06</td>\n",
       "      <td>1608.0</td>\n",
       "      <td>37.0</td>\n",
       "      <td>717.0</td>\n",
       "    </tr>\n",
       "    <tr>\n",
       "      <th>504</th>\n",
       "      <td>@boboc_72</td>\n",
       "      <td>여름, 수박을 먹는 계절</td>\n",
       "      <td>2018-08-12</td>\n",
       "      <td>151.0</td>\n",
       "      <td>505.0</td>\n",
       "      <td>여름, 수박을 먹는 계절</td>\n",
       "      <td>2018-08-12</td>\n",
       "      <td>1473.0</td>\n",
       "      <td>49.0</td>\n",
       "      <td>456.0</td>\n",
       "    </tr>\n",
       "    <tr>\n",
       "      <th>434</th>\n",
       "      <td>@kam_33</td>\n",
       "      <td>많이 먹은 다음날 반드시 지켜야 할 3가지 습관</td>\n",
       "      <td>2018-08-09</td>\n",
       "      <td>167.0</td>\n",
       "      <td>435.0</td>\n",
       "      <td>많이 먹은 다음날 반드시 지켜야 할 3가지 습관</td>\n",
       "      <td>2018-08-09</td>\n",
       "      <td>1751.0</td>\n",
       "      <td>29.0</td>\n",
       "      <td>406.0</td>\n",
       "    </tr>\n",
       "    <tr>\n",
       "      <th>261</th>\n",
       "      <td>@jooyoon_51</td>\n",
       "      <td>구질구질한 연애</td>\n",
       "      <td>2018-08-01</td>\n",
       "      <td>227.0</td>\n",
       "      <td>262.0</td>\n",
       "      <td>구질구질한 연애</td>\n",
       "      <td>2018-08-01</td>\n",
       "      <td>1750.0</td>\n",
       "      <td>30.0</td>\n",
       "      <td>232.0</td>\n",
       "    </tr>\n",
       "    <tr>\n",
       "      <th>211</th>\n",
       "      <td>@greenut90_85</td>\n",
       "      <td>크림라떼와 브라우니</td>\n",
       "      <td>2018-08-05</td>\n",
       "      <td>257.0</td>\n",
       "      <td>212.0</td>\n",
       "      <td>크림라떼와 브라우니</td>\n",
       "      <td>2018-08-05</td>\n",
       "      <td>1573.0</td>\n",
       "      <td>41.0</td>\n",
       "      <td>171.0</td>\n",
       "    </tr>\n",
       "    <tr>\n",
       "      <th>199</th>\n",
       "      <td>@roysday_279</td>\n",
       "      <td>혼자서 어찌어찌 하다보니 1억을 넘겼다.</td>\n",
       "      <td>2018-11-03</td>\n",
       "      <td>266.0</td>\n",
       "      <td>200.0</td>\n",
       "      <td>혼자서 어찌어찌 하다보니 1억을 넘겼다.</td>\n",
       "      <td>2018-11-03</td>\n",
       "      <td>1659.0</td>\n",
       "      <td>36.0</td>\n",
       "      <td>164.0</td>\n",
       "    </tr>\n",
       "    <tr>\n",
       "      <th>162</th>\n",
       "      <td>@honeytip_940</td>\n",
       "      <td>뱃살 쏙 들어가게 하는 건강한 먹거리 6가지</td>\n",
       "      <td>2018-08-09</td>\n",
       "      <td>305.0</td>\n",
       "      <td>163.0</td>\n",
       "      <td>뱃살 쏙 들어가게 하는 건강한 먹거리 6가지</td>\n",
       "      <td>2018-08-09</td>\n",
       "      <td>2408.0</td>\n",
       "      <td>12.0</td>\n",
       "      <td>151.0</td>\n",
       "    </tr>\n",
       "    <tr>\n",
       "      <th>136</th>\n",
       "      <td>@tenbody_1297</td>\n",
       "      <td>매일 5분씩 참으면서 살 빼고 근육 늘리는 방법</td>\n",
       "      <td>2018-08-09</td>\n",
       "      <td>346.0</td>\n",
       "      <td>137.0</td>\n",
       "      <td>매일 5분씩 참으면서 살 빼고 근육 늘리는 방법</td>\n",
       "      <td>2018-08-09</td>\n",
       "      <td>2244.0</td>\n",
       "      <td>15.0</td>\n",
       "      <td>122.0</td>\n",
       "    </tr>\n",
       "    <tr>\n",
       "      <th>149</th>\n",
       "      <td>@merryseo_73</td>\n",
       "      <td>행복한가요? 얼마나 벌어요? 불안하진 않나요?</td>\n",
       "      <td>2018-11-22</td>\n",
       "      <td>318.0</td>\n",
       "      <td>150.0</td>\n",
       "      <td>행복한가요? 얼마나 벌어요? 불안하진 않나요?</td>\n",
       "      <td>2018-11-22</td>\n",
       "      <td>1742.0</td>\n",
       "      <td>31.0</td>\n",
       "      <td>119.0</td>\n",
       "    </tr>\n",
       "    <tr>\n",
       "      <th>115</th>\n",
       "      <td>@honeytip_945</td>\n",
       "      <td>물에 오이를 넣어 마시면 생기는 몸의 변화 5가지</td>\n",
       "      <td>2018-08-10</td>\n",
       "      <td>392.0</td>\n",
       "      <td>116.0</td>\n",
       "      <td>물에 오이를 넣어 마시면 생기는 몸의 변화 5가지</td>\n",
       "      <td>2018-08-10</td>\n",
       "      <td>2227.0</td>\n",
       "      <td>16.0</td>\n",
       "      <td>100.0</td>\n",
       "    </tr>\n",
       "  </tbody>\n",
       "</table>\n",
       "</div>"
      ],
      "text/plain": [
       "           article_id                      title_x   reg_dt_x  user_id_x  \\\n",
       "753  @doyeonsunim_240                    자기 관리의 시작 2018-08-06      117.0   \n",
       "504         @boboc_72                여름, 수박을 먹는 계절 2018-08-12      151.0   \n",
       "434           @kam_33   많이 먹은 다음날 반드시 지켜야 할 3가지 습관 2018-08-09      167.0   \n",
       "261       @jooyoon_51                     구질구질한 연애 2018-08-01      227.0   \n",
       "211     @greenut90_85                   크림라떼와 브라우니 2018-08-05      257.0   \n",
       "199      @roysday_279       혼자서 어찌어찌 하다보니 1억을 넘겼다. 2018-11-03      266.0   \n",
       "162     @honeytip_940     뱃살 쏙 들어가게 하는 건강한 먹거리 6가지 2018-08-09      305.0   \n",
       "136     @tenbody_1297   매일 5분씩 참으면서 살 빼고 근육 늘리는 방법 2018-08-09      346.0   \n",
       "149      @merryseo_73    행복한가요? 얼마나 벌어요? 불안하진 않나요? 2018-11-22      318.0   \n",
       "115     @honeytip_945  물에 오이를 넣어 마시면 생기는 몸의 변화 5가지 2018-08-10      392.0   \n",
       "\n",
       "      rk_x                      title_y   reg_dt_y  user_id_y  rk_y  diff_rk  \n",
       "753  754.0                    자기 관리의 시작 2018-08-06     1608.0  37.0    717.0  \n",
       "504  505.0                여름, 수박을 먹는 계절 2018-08-12     1473.0  49.0    456.0  \n",
       "434  435.0   많이 먹은 다음날 반드시 지켜야 할 3가지 습관 2018-08-09     1751.0  29.0    406.0  \n",
       "261  262.0                     구질구질한 연애 2018-08-01     1750.0  30.0    232.0  \n",
       "211  212.0                   크림라떼와 브라우니 2018-08-05     1573.0  41.0    171.0  \n",
       "199  200.0       혼자서 어찌어찌 하다보니 1억을 넘겼다. 2018-11-03     1659.0  36.0    164.0  \n",
       "162  163.0     뱃살 쏙 들어가게 하는 건강한 먹거리 6가지 2018-08-09     2408.0  12.0    151.0  \n",
       "136  137.0   매일 5분씩 참으면서 살 빼고 근육 늘리는 방법 2018-08-09     2244.0  15.0    122.0  \n",
       "149  150.0    행복한가요? 얼마나 벌어요? 불안하진 않나요? 2018-11-22     1742.0  31.0    119.0  \n",
       "115  116.0  물에 오이를 넣어 마시면 생기는 몸의 변화 5가지 2018-08-10     2227.0  16.0    100.0  "
      ]
     },
     "execution_count": 93,
     "metadata": {},
     "output_type": "execute_result"
    }
   ],
   "source": [
    "# 단골 독자 소비수 상위 50개 글 중 신규 독자의 순위 차가 많이 나는 긂\n",
    "off_data_lu_rk[off_data_lu_rk.rk_y <= 50].sort_values(by='diff_rk', ascending=False).head(10)"
   ]
  },
  {
   "cell_type": "code",
   "execution_count": null,
   "metadata": {},
   "outputs": [],
   "source": []
  },
  {
   "cell_type": "code",
   "execution_count": null,
   "metadata": {},
   "outputs": [],
   "source": []
  },
  {
   "cell_type": "markdown",
   "metadata": {},
   "source": [
    "## 6. Following List"
   ]
  },
  {
   "cell_type": "markdown",
   "metadata": {},
   "source": [
    "### a. Following List 통계"
   ]
  },
  {
   "cell_type": "code",
   "execution_count": 94,
   "metadata": {},
   "outputs": [],
   "source": [
    "# following_list가 있는 유저\n",
    "following = users[users['following_list'].str.len() !=0 ]"
   ]
  },
  {
   "cell_type": "code",
   "execution_count": 95,
   "metadata": {},
   "outputs": [
    {
     "data": {
      "text/plain": [
       "0.9766120260781701"
      ]
     },
     "execution_count": 95,
     "metadata": {},
     "output_type": "execute_result"
    }
   ],
   "source": [
    "following.shape[0] / users.shape[0]"
   ]
  },
  {
   "cell_type": "markdown",
   "metadata": {},
   "source": [
    "- 98%의 유저가 follow하는 작가가 있음"
   ]
  },
  {
   "cell_type": "code",
   "execution_count": 96,
   "metadata": {},
   "outputs": [
    {
     "name": "stderr",
     "output_type": "stream",
     "text": [
      "/data/app/anaconda3/lib/python3.7/site-packages/ipykernel_launcher.py:1: SettingWithCopyWarning: \n",
      "A value is trying to be set on a copy of a slice from a DataFrame.\n",
      "Try using .loc[row_indexer,col_indexer] = value instead\n",
      "\n",
      "See the caveats in the documentation: http://pandas.pydata.org/pandas-docs/stable/indexing.html#indexing-view-versus-copy\n",
      "  \"\"\"Entry point for launching an IPython kernel.\n"
     ]
    }
   ],
   "source": [
    "following['author_cnt'] = users['following_list'].str.len()"
   ]
  },
  {
   "cell_type": "code",
   "execution_count": 97,
   "metadata": {},
   "outputs": [
    {
     "data": {
      "text/plain": [
       "8.622620185179084"
      ]
     },
     "execution_count": 97,
     "metadata": {},
     "output_type": "execute_result"
    }
   ],
   "source": [
    "#평균 구독자수 \n",
    "following['author_cnt'].mean()"
   ]
  },
  {
   "cell_type": "markdown",
   "metadata": {},
   "source": [
    "- follow하고 있는 유저는 평균 9명의 작가를 구독 중"
   ]
  },
  {
   "cell_type": "code",
   "execution_count": 98,
   "metadata": {},
   "outputs": [
    {
     "name": "stderr",
     "output_type": "stream",
     "text": [
      "/data/app/anaconda3/lib/python3.7/site-packages/ipykernel_launcher.py:1: SettingWithCopyWarning: \n",
      "A value is trying to be set on a copy of a slice from a DataFrame.\n",
      "Try using .loc[row_indexer,col_indexer] = value instead\n",
      "\n",
      "See the caveats in the documentation: http://pandas.pydata.org/pandas-docs/stable/indexing.html#indexing-view-versus-copy\n",
      "  \"\"\"Entry point for launching an IPython kernel.\n"
     ]
    }
   ],
   "source": [
    "following['following_list'] = following['following_list'].apply(lambda x: ' '.join(x))"
   ]
  },
  {
   "cell_type": "code",
   "execution_count": 99,
   "metadata": {},
   "outputs": [],
   "source": [
    "def chainer(s):\n",
    "    return list(chain.from_iterable(s.str.split(' ')))"
   ]
  },
  {
   "cell_type": "code",
   "execution_count": 100,
   "metadata": {},
   "outputs": [],
   "source": [
    "following_lens = following['following_list'].str.split(' ').map(len)"
   ]
  },
  {
   "cell_type": "code",
   "execution_count": 101,
   "metadata": {},
   "outputs": [],
   "source": [
    "following_raw = pd.DataFrame({'id': np.repeat(following['id'], following_lens),\n",
    "                         'following_list': chainer(following['following_list'])})"
   ]
  },
  {
   "cell_type": "code",
   "execution_count": 102,
   "metadata": {},
   "outputs": [
    {
     "data": {
      "text/plain": [
       "@brunch         292413\n",
       "@dryjshin         9011\n",
       "@tenbody          8615\n",
       "@roysday          8500\n",
       "@yumileewyky      6116\n",
       "@varo             5688\n",
       "@yoonash          5653\n",
       "@imagineer        5483\n",
       "@lunarshore       5414\n",
       "@ebprux           5374\n",
       "@haneulalice      5341\n",
       "@suhanjang        4911\n",
       "@daljasee         4756\n",
       "@mobiinside       4743\n",
       "@sustainlife      4655\n",
       "@bang1999         4577\n",
       "@seochogirl       4441\n",
       "@annejeong        4426\n",
       "@eastgo           4387\n",
       "@hyejinchoi       4305\n",
       "Name: following_list, dtype: int64"
      ]
     },
     "execution_count": 102,
     "metadata": {},
     "output_type": "execute_result"
    }
   ],
   "source": [
    "# 가장 구독하는 유저가 많은 작가 리스트\n",
    "following_raw['following_list'].value_counts(ascending=False)[:20]"
   ]
  },
  {
   "cell_type": "code",
   "execution_count": 103,
   "metadata": {},
   "outputs": [],
   "source": [
    "following_read = pd.merge(off_data, following_raw, how='inner', left_on=['user_id', 'author_id'], right_on=['id', 'following_list'])"
   ]
  },
  {
   "cell_type": "code",
   "execution_count": 104,
   "metadata": {},
   "outputs": [
    {
     "data": {
      "text/plain": [
       "0.3485478621423351"
      ]
     },
     "execution_count": 104,
     "metadata": {},
     "output_type": "execute_result"
    }
   ],
   "source": [
    "following_read.shape[0] / off_data.shape[0]"
   ]
  },
  {
   "cell_type": "markdown",
   "metadata": {},
   "source": [
    "- 전체 소비 데이터중 구독하고 있는 작가의 글 소비 비중이 35%"
   ]
  },
  {
   "cell_type": "code",
   "execution_count": null,
   "metadata": {},
   "outputs": [],
   "source": []
  },
  {
   "cell_type": "code",
   "execution_count": null,
   "metadata": {},
   "outputs": [],
   "source": []
  }
 ],
 "metadata": {
  "kernelspec": {
   "display_name": "Python 3",
   "language": "python",
   "name": "python3"
  },
  "language_info": {
   "codemirror_mode": {
    "name": "ipython",
    "version": 3
   },
   "file_extension": ".py",
   "mimetype": "text/x-python",
   "name": "python",
   "nbconvert_exporter": "python",
   "pygments_lexer": "ipython3",
   "version": "3.7.2"
  }
 },
 "nbformat": 4,
 "nbformat_minor": 2
}
